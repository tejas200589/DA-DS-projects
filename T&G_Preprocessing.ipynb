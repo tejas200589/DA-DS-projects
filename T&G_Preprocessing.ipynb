{
  "cells": [
    {
      "cell_type": "markdown",
      "metadata": {
        "id": "dyiYgRNsTUYB"
      },
      "source": [
        "# <CENTER>  Read Data"
      ]
    },
    {
      "cell_type": "code",
      "execution_count": 1,
      "metadata": {
        "id": "kpCGnHZ3UZVZ"
      },
      "outputs": [],
      "source": [
        "import os\n",
        "import json\n",
        "import gzip\n",
        "import pandas as pd\n",
        "import numpy as np"
      ]
    },
    {
      "cell_type": "code",
      "execution_count": 2,
      "metadata": {
        "id": "Yx34MqIgUbad"
      },
      "outputs": [],
      "source": [
        "def parse(path):\n",
        "  g = gzip.open(path, 'rb')\n",
        "  for l in g:\n",
        "    yield eval(l)\n",
        "\n",
        "def getDF(path):\n",
        "  i = 0\n",
        "  df = {}\n",
        "  for d in parse(path):\n",
        "    df[i] = d\n",
        "    i += 1\n",
        "  return pd.DataFrame.from_dict(df, orient='index')"
      ]
    },
    {
      "cell_type": "markdown",
      "metadata": {
        "id": "guxvjGM3YUUr"
      },
      "source": [
        "# <CENTER> Read file"
      ]
    },
    {
      "cell_type": "code",
      "execution_count": 3,
      "metadata": {
        "id": "kc7c-u2gUcbT"
      },
      "outputs": [],
      "source": [
        "df_M_TG = getDF(r\"E:\\NIIT\\Project\\DATA_2014\\T&G\\meta_Toys_and_Games.json.gz\")"
      ]
    },
    {
      "cell_type": "code",
      "execution_count": 4,
      "metadata": {
        "id": "9KEiJHLpUe2d"
      },
      "outputs": [],
      "source": [
        "df_R_TG = getDF(r\"E:\\NIIT\\Project\\DATA_2014\\T&G\\reviews_Toys_and_Games.json.gz\")"
      ]
    },
    {
      "cell_type": "code",
      "execution_count": 5,
      "metadata": {
        "id": "VkPUbzAIUgJ1"
      },
      "outputs": [],
      "source": [
        "df_5_TG = getDF(r\"E:\\NIIT\\Project\\DATA_2014\\T&G\\reviews_Toys_and_Games_5.json.gz\")"
      ]
    },
    {
      "cell_type": "markdown",
      "metadata": {
        "id": "duxHiMVUjIMv"
      },
      "source": [
        "# <CENTER> Data preprocessing"
      ]
    },
    {
      "cell_type": "code",
      "execution_count": 16,
      "metadata": {},
      "outputs": [
        {
          "data": {
            "text/plain": [
              "asin                0\n",
              "description     33285\n",
              "title             898\n",
              "price           93381\n",
              "salesRank        8849\n",
              "imUrl             350\n",
              "brand          150706\n",
              "categories          0\n",
              "related         71687\n",
              "dtype: int64"
            ]
          },
          "execution_count": 16,
          "metadata": {},
          "output_type": "execute_result"
        }
      ],
      "source": [
        "df_M_TG.isnull().sum()"
      ]
    },
    {
      "cell_type": "markdown",
      "metadata": {},
      "source": [
        "## Exporting various variables to understand"
      ]
    },
    {
      "cell_type": "code",
      "execution_count": 40,
      "metadata": {},
      "outputs": [],
      "source": [
        "file_name = \"description_m_TG14.txt\"\n",
        "descriptions = df_M_TG['description']\n",
        "with open(file_name, 'w', encoding='utf-8') as f:\n",
        "    for description in descriptions:\n",
        "        f.write(str(description) + '\\n')"
      ]
    },
    {
      "cell_type": "code",
      "execution_count": 43,
      "metadata": {},
      "outputs": [],
      "source": [
        "file_name = \"salesRank_m_TG14.txt\"\n",
        "salesRank = df_M_TG['salesRank']\n",
        "with open(file_name, 'w', encoding='utf-8') as f:\n",
        "    for salesRank in salesRank:\n",
        "        f.write(str(salesRank) + '\\n')"
      ]
    },
    {
      "cell_type": "code",
      "execution_count": 7,
      "metadata": {},
      "outputs": [],
      "source": [
        "file_name = \"title.txt\"\n",
        "title = df_M_TG['title']\n",
        "with open(file_name, 'w', encoding='utf-8') as f:\n",
        "    for title in title:\n",
        "        f.write(str(title) + '\\n')"
      ]
    },
    {
      "cell_type": "markdown",
      "metadata": {},
      "source": [
        "## Creating copy of data"
      ]
    },
    {
      "cell_type": "code",
      "execution_count": 8,
      "metadata": {},
      "outputs": [],
      "source": [
        "df_temp_MTG=df_M_TG.copy()"
      ]
    },
    {
      "cell_type": "code",
      "execution_count": 9,
      "metadata": {},
      "outputs": [
        {
          "data": {
            "text/plain": [
              "(336072, 9)"
            ]
          },
          "execution_count": 9,
          "metadata": {},
          "output_type": "execute_result"
        }
      ],
      "source": [
        "df_temp_MTG.shape"
      ]
    },
    {
      "cell_type": "markdown",
      "metadata": {},
      "source": [
        "## Renaming the 'asin' and deoping the unnecessary data "
      ]
    },
    {
      "cell_type": "code",
      "execution_count": 17,
      "metadata": {},
      "outputs": [],
      "source": [
        "df_temp_MTG = df_temp_MTG.rename(columns={'asin': 'ProductID'})"
      ]
    },
    {
      "cell_type": "code",
      "execution_count": 18,
      "metadata": {},
      "outputs": [
        {
          "data": {
            "text/plain": [
              "336072"
            ]
          },
          "execution_count": 18,
          "metadata": {},
          "output_type": "execute_result"
        }
      ],
      "source": [
        "len(df_temp_MTG['ProductID'].value_counts())"
      ]
    },
    {
      "cell_type": "code",
      "execution_count": 19,
      "metadata": {},
      "outputs": [
        {
          "data": {
            "text/plain": [
              "(336072, 9)"
            ]
          },
          "execution_count": 19,
          "metadata": {},
          "output_type": "execute_result"
        }
      ],
      "source": [
        "df_temp_MTG.shape"
      ]
    },
    {
      "cell_type": "code",
      "execution_count": 20,
      "metadata": {},
      "outputs": [],
      "source": [
        "df_temp_MTG=df_temp_MTG.drop(['imUrl','brand','salesRank','description'],axis=1)"
      ]
    },
    {
      "cell_type": "markdown",
      "metadata": {},
      "source": [
        "## Remove Characters \"{},(),[]\""
      ]
    },
    {
      "cell_type": "code",
      "execution_count": 21,
      "metadata": {},
      "outputs": [],
      "source": [
        "import re \n",
        "def removechar(text):\n",
        "    special_chars_pattern = r'[\\{\\}\\(\\)\\[\\]]'\n",
        "    cleaned_text = re.sub(special_chars_pattern, '', text)\n",
        "    return cleaned_text"
      ]
    },
    {
      "cell_type": "code",
      "execution_count": 22,
      "metadata": {},
      "outputs": [],
      "source": [
        "C_list=['categories','related']\n",
        "df_temp_MTG[C_list] = df_temp_MTG[C_list].astype(str)\n",
        "for col in C_list:\n",
        "    df_temp_MTG[col] = df_temp_MTG[col].apply(removechar)"
      ]
    },
    {
      "cell_type": "code",
      "execution_count": 23,
      "metadata": {},
      "outputs": [
        {
          "data": {
            "text/html": [
              "<div>\n",
              "<style scoped>\n",
              "    .dataframe tbody tr th:only-of-type {\n",
              "        vertical-align: middle;\n",
              "    }\n",
              "\n",
              "    .dataframe tbody tr th {\n",
              "        vertical-align: top;\n",
              "    }\n",
              "\n",
              "    .dataframe thead th {\n",
              "        text-align: right;\n",
              "    }\n",
              "</style>\n",
              "<table border=\"1\" class=\"dataframe\">\n",
              "  <thead>\n",
              "    <tr style=\"text-align: right;\">\n",
              "      <th></th>\n",
              "      <th>ProductID</th>\n",
              "      <th>title</th>\n",
              "      <th>price</th>\n",
              "      <th>categories</th>\n",
              "      <th>related</th>\n",
              "    </tr>\n",
              "  </thead>\n",
              "  <tbody>\n",
              "    <tr>\n",
              "      <th>0</th>\n",
              "      <td>0000191639</td>\n",
              "      <td>Dr. Suess 19163 Dr. Seuss Puzzle 3 Pack Bundle</td>\n",
              "      <td>37.12</td>\n",
              "      <td>'Toys &amp; Games', 'Puzzles', 'Jigsaw Puzzles'</td>\n",
              "      <td>nan</td>\n",
              "    </tr>\n",
              "    <tr>\n",
              "      <th>1</th>\n",
              "      <td>0005069491</td>\n",
              "      <td>Nursery Rhymes Felt Book</td>\n",
              "      <td>NaN</td>\n",
              "      <td>'Toys &amp; Games'</td>\n",
              "      <td>nan</td>\n",
              "    </tr>\n",
              "    <tr>\n",
              "      <th>2</th>\n",
              "      <td>0076561046</td>\n",
              "      <td>Fraction Decimal Percent Card Deck</td>\n",
              "      <td>NaN</td>\n",
              "      <td>'Toys &amp; Games', 'Learning &amp; Education', 'Flash...</td>\n",
              "      <td>'also_viewed': '0075728680'</td>\n",
              "    </tr>\n",
              "    <tr>\n",
              "      <th>3</th>\n",
              "      <td>0131358936</td>\n",
              "      <td>NaN</td>\n",
              "      <td>36.22</td>\n",
              "      <td>'Toys &amp; Games', 'Learning &amp; Education', 'Mathe...</td>\n",
              "      <td>'also_bought': '0321845536', '0078787572', 'bu...</td>\n",
              "    </tr>\n",
              "    <tr>\n",
              "      <th>4</th>\n",
              "      <td>0133642984</td>\n",
              "      <td>Algebra 2 California Teacher Center</td>\n",
              "      <td>731.93</td>\n",
              "      <td>'Toys &amp; Games', 'Learning &amp; Education', 'Mathe...</td>\n",
              "      <td>nan</td>\n",
              "    </tr>\n",
              "  </tbody>\n",
              "</table>\n",
              "</div>"
            ],
            "text/plain": [
              "    ProductID                                           title   price  \\\n",
              "0  0000191639  Dr. Suess 19163 Dr. Seuss Puzzle 3 Pack Bundle   37.12   \n",
              "1  0005069491                        Nursery Rhymes Felt Book     NaN   \n",
              "2  0076561046              Fraction Decimal Percent Card Deck     NaN   \n",
              "3  0131358936                                             NaN   36.22   \n",
              "4  0133642984             Algebra 2 California Teacher Center  731.93   \n",
              "\n",
              "                                          categories  \\\n",
              "0        'Toys & Games', 'Puzzles', 'Jigsaw Puzzles'   \n",
              "1                                     'Toys & Games'   \n",
              "2  'Toys & Games', 'Learning & Education', 'Flash...   \n",
              "3  'Toys & Games', 'Learning & Education', 'Mathe...   \n",
              "4  'Toys & Games', 'Learning & Education', 'Mathe...   \n",
              "\n",
              "                                             related  \n",
              "0                                                nan  \n",
              "1                                                nan  \n",
              "2                        'also_viewed': '0075728680'  \n",
              "3  'also_bought': '0321845536', '0078787572', 'bu...  \n",
              "4                                                nan  "
            ]
          },
          "execution_count": 23,
          "metadata": {},
          "output_type": "execute_result"
        }
      ],
      "source": [
        "df_temp_MTG.head()"
      ]
    },
    {
      "cell_type": "code",
      "execution_count": null,
      "metadata": {},
      "outputs": [],
      "source": [
        "file_name = \"categories_mtg14.txt\"\n",
        "categories = df_temp_MTG['categories']\n",
        "with open(file_name, 'w', encoding='utf-8') as f:\n",
        "    for categories in categories:\n",
        "        f.write(str(categories) + '\\n')"
      ]
    },
    {
      "cell_type": "markdown",
      "metadata": {},
      "source": [
        "## Creating sub-Category from category"
      ]
    },
    {
      "cell_type": "code",
      "execution_count": 24,
      "metadata": {},
      "outputs": [],
      "source": [
        "Temp_var_mtg=df_temp_MTG[\"categories\"].str.split(\",\", n = 1, expand = True)"
      ]
    },
    {
      "cell_type": "code",
      "execution_count": 25,
      "metadata": {},
      "outputs": [],
      "source": [
        "df_temp_MTG['Category']=Temp_var_mtg[0]"
      ]
    },
    {
      "cell_type": "code",
      "execution_count": 26,
      "metadata": {},
      "outputs": [],
      "source": [
        "df_temp_MTG['temp_cat']=Temp_var_mtg[1]"
      ]
    },
    {
      "cell_type": "code",
      "execution_count": 27,
      "metadata": {},
      "outputs": [],
      "source": [
        "Temp_var_mtg2=df_temp_MTG[\"temp_cat\"].str.split(\",\", n = 1, expand = True)"
      ]
    },
    {
      "cell_type": "code",
      "execution_count": 28,
      "metadata": {},
      "outputs": [],
      "source": [
        "df_temp_MTG['Sub-category']=Temp_var_mtg2[0]\n",
        "df_temp_MTG=df_temp_MTG.drop(['temp_cat','categories'],axis=1)"
      ]
    },
    {
      "cell_type": "code",
      "execution_count": 29,
      "metadata": {},
      "outputs": [
        {
          "data": {
            "text/html": [
              "<div>\n",
              "<style scoped>\n",
              "    .dataframe tbody tr th:only-of-type {\n",
              "        vertical-align: middle;\n",
              "    }\n",
              "\n",
              "    .dataframe tbody tr th {\n",
              "        vertical-align: top;\n",
              "    }\n",
              "\n",
              "    .dataframe thead th {\n",
              "        text-align: right;\n",
              "    }\n",
              "</style>\n",
              "<table border=\"1\" class=\"dataframe\">\n",
              "  <thead>\n",
              "    <tr style=\"text-align: right;\">\n",
              "      <th></th>\n",
              "      <th>ProductID</th>\n",
              "      <th>title</th>\n",
              "      <th>price</th>\n",
              "      <th>related</th>\n",
              "      <th>Category</th>\n",
              "      <th>Sub-category</th>\n",
              "    </tr>\n",
              "  </thead>\n",
              "  <tbody>\n",
              "    <tr>\n",
              "      <th>0</th>\n",
              "      <td>0000191639</td>\n",
              "      <td>Dr. Suess 19163 Dr. Seuss Puzzle 3 Pack Bundle</td>\n",
              "      <td>37.12</td>\n",
              "      <td>nan</td>\n",
              "      <td>'Toys &amp; Games'</td>\n",
              "      <td>'Puzzles'</td>\n",
              "    </tr>\n",
              "    <tr>\n",
              "      <th>1</th>\n",
              "      <td>0005069491</td>\n",
              "      <td>Nursery Rhymes Felt Book</td>\n",
              "      <td>NaN</td>\n",
              "      <td>nan</td>\n",
              "      <td>'Toys &amp; Games'</td>\n",
              "      <td>None</td>\n",
              "    </tr>\n",
              "    <tr>\n",
              "      <th>2</th>\n",
              "      <td>0076561046</td>\n",
              "      <td>Fraction Decimal Percent Card Deck</td>\n",
              "      <td>NaN</td>\n",
              "      <td>'also_viewed': '0075728680'</td>\n",
              "      <td>'Toys &amp; Games'</td>\n",
              "      <td>'Learning &amp; Education'</td>\n",
              "    </tr>\n",
              "    <tr>\n",
              "      <th>3</th>\n",
              "      <td>0131358936</td>\n",
              "      <td>NaN</td>\n",
              "      <td>36.22</td>\n",
              "      <td>'also_bought': '0321845536', '0078787572', 'bu...</td>\n",
              "      <td>'Toys &amp; Games'</td>\n",
              "      <td>'Learning &amp; Education'</td>\n",
              "    </tr>\n",
              "    <tr>\n",
              "      <th>4</th>\n",
              "      <td>0133642984</td>\n",
              "      <td>Algebra 2 California Teacher Center</td>\n",
              "      <td>731.93</td>\n",
              "      <td>nan</td>\n",
              "      <td>'Toys &amp; Games'</td>\n",
              "      <td>'Learning &amp; Education'</td>\n",
              "    </tr>\n",
              "  </tbody>\n",
              "</table>\n",
              "</div>"
            ],
            "text/plain": [
              "    ProductID                                           title   price  \\\n",
              "0  0000191639  Dr. Suess 19163 Dr. Seuss Puzzle 3 Pack Bundle   37.12   \n",
              "1  0005069491                        Nursery Rhymes Felt Book     NaN   \n",
              "2  0076561046              Fraction Decimal Percent Card Deck     NaN   \n",
              "3  0131358936                                             NaN   36.22   \n",
              "4  0133642984             Algebra 2 California Teacher Center  731.93   \n",
              "\n",
              "                                             related        Category  \\\n",
              "0                                                nan  'Toys & Games'   \n",
              "1                                                nan  'Toys & Games'   \n",
              "2                        'also_viewed': '0075728680'  'Toys & Games'   \n",
              "3  'also_bought': '0321845536', '0078787572', 'bu...  'Toys & Games'   \n",
              "4                                                nan  'Toys & Games'   \n",
              "\n",
              "              Sub-category  \n",
              "0                'Puzzles'  \n",
              "1                     None  \n",
              "2   'Learning & Education'  \n",
              "3   'Learning & Education'  \n",
              "4   'Learning & Education'  "
            ]
          },
          "execution_count": 29,
          "metadata": {},
          "output_type": "execute_result"
        }
      ],
      "source": [
        "df_temp_MTG.head(5)"
      ]
    },
    {
      "cell_type": "code",
      "execution_count": 30,
      "metadata": {},
      "outputs": [],
      "source": [
        "df_temp_MTG['Sub-category'].fillna(\"'Toys & Games'\",inplace=True)"
      ]
    },
    {
      "cell_type": "code",
      "execution_count": 31,
      "metadata": {},
      "outputs": [
        {
          "data": {
            "text/plain": [
              "ProductID           0\n",
              "title             898\n",
              "price           93381\n",
              "related             0\n",
              "Category            0\n",
              "Sub-category        0\n",
              "dtype: int64"
            ]
          },
          "execution_count": 31,
          "metadata": {},
          "output_type": "execute_result"
        }
      ],
      "source": [
        "df_temp_MTG.isnull().sum()"
      ]
    },
    {
      "cell_type": "code",
      "execution_count": 32,
      "metadata": {},
      "outputs": [],
      "source": [
        "df_temp_MTG['title'].fillna(\"Toys&Games\",inplace=True)"
      ]
    },
    {
      "cell_type": "code",
      "execution_count": 33,
      "metadata": {},
      "outputs": [],
      "source": [
        "Temp_var_mtg3=df_temp_MTG[\"related\"].str.split(\":\", n = 1, expand = True)"
      ]
    },
    {
      "cell_type": "code",
      "execution_count": 34,
      "metadata": {},
      "outputs": [],
      "source": [
        "df_temp_MTG['also_buy']=Temp_var_mtg3[0]\n",
        "df_temp_MTG['other']=Temp_var_mtg3[1]"
      ]
    },
    {
      "cell_type": "markdown",
      "metadata": {},
      "source": [
        "## Converting \"also_buy\" column to binary as \"yes/no\""
      ]
    },
    {
      "cell_type": "code",
      "execution_count": 35,
      "metadata": {},
      "outputs": [
        {
          "name": "stderr",
          "output_type": "stream",
          "text": [
            "C:\\Users\\Rishabh\\AppData\\Local\\Temp\\ipykernel_14052\\4159863847.py:5: SettingWithCopyWarning: \n",
            "A value is trying to be set on a copy of a slice from a DataFrame\n",
            "\n",
            "See the caveats in the documentation: https://pandas.pydata.org/pandas-docs/stable/user_guide/indexing.html#returning-a-view-versus-a-copy\n",
            "  df_temp_MTG['also_buy'][i] = '0'\n",
            "C:\\Users\\Rishabh\\AppData\\Local\\Temp\\ipykernel_14052\\4159863847.py:3: SettingWithCopyWarning: \n",
            "A value is trying to be set on a copy of a slice from a DataFrame\n",
            "\n",
            "See the caveats in the documentation: https://pandas.pydata.org/pandas-docs/stable/user_guide/indexing.html#returning-a-view-versus-a-copy\n",
            "  df_temp_MTG['also_buy'][i] = '1'\n"
          ]
        }
      ],
      "source": [
        "for i in range(len(df_temp_MTG['also_buy'])):\n",
        "    if df_temp_MTG['also_buy'][i] == \"'also_bought'\":\n",
        "        df_temp_MTG['also_buy'][i] = '1'\n",
        "    else:\n",
        "        df_temp_MTG['also_buy'][i] = '0'"
      ]
    },
    {
      "cell_type": "code",
      "execution_count": 36,
      "metadata": {},
      "outputs": [],
      "source": [
        "df_temp_MTG=df_temp_MTG.drop(['related','other'],axis=1)"
      ]
    },
    {
      "cell_type": "code",
      "execution_count": 37,
      "metadata": {},
      "outputs": [],
      "source": [
        "def remove_quotes(text):\n",
        "    return text.replace(\"'\", '')\n",
        "\n",
        "df_temp_MTG['Sub-category'] = df_temp_MTG['Sub-category'].apply(remove_quotes)\n",
        "df_temp_MTG['Category'] = df_temp_MTG['Category'].apply(remove_quotes)"
      ]
    },
    {
      "cell_type": "code",
      "execution_count": 38,
      "metadata": {},
      "outputs": [],
      "source": [
        "df_temp_MTG['also_buy']=df_temp_MTG['also_buy'].astype(int)"
      ]
    },
    {
      "cell_type": "code",
      "execution_count": 113,
      "metadata": {},
      "outputs": [
        {
          "data": {
            "text/plain": [
              "ProductID        object\n",
              "title            object\n",
              "price           float64\n",
              "Category         object\n",
              "Sub-category     object\n",
              "also_buy          int32\n",
              "dtype: object"
            ]
          },
          "execution_count": 113,
          "metadata": {},
          "output_type": "execute_result"
        }
      ],
      "source": [
        "df_temp_MTG.dtypes"
      ]
    },
    {
      "cell_type": "code",
      "execution_count": 40,
      "metadata": {},
      "outputs": [],
      "source": [
        "df_sort_MTG=df_temp_MTG.copy()"
      ]
    },
    {
      "cell_type": "code",
      "execution_count": 102,
      "metadata": {},
      "outputs": [
        {
          "data": {
            "text/html": [
              "<div>\n",
              "<style scoped>\n",
              "    .dataframe tbody tr th:only-of-type {\n",
              "        vertical-align: middle;\n",
              "    }\n",
              "\n",
              "    .dataframe tbody tr th {\n",
              "        vertical-align: top;\n",
              "    }\n",
              "\n",
              "    .dataframe thead th {\n",
              "        text-align: right;\n",
              "    }\n",
              "</style>\n",
              "<table border=\"1\" class=\"dataframe\">\n",
              "  <thead>\n",
              "    <tr style=\"text-align: right;\">\n",
              "      <th></th>\n",
              "      <th>ProductID</th>\n",
              "      <th>title</th>\n",
              "      <th>price</th>\n",
              "      <th>Category</th>\n",
              "      <th>Sub-category</th>\n",
              "      <th>also_buy</th>\n",
              "    </tr>\n",
              "  </thead>\n",
              "  <tbody>\n",
              "    <tr>\n",
              "      <th>0</th>\n",
              "      <td>0000191639</td>\n",
              "      <td>Dr. Suess 19163 Dr. Seuss Puzzle 3 Pack Bundle</td>\n",
              "      <td>37.12</td>\n",
              "      <td>Toys &amp; Games</td>\n",
              "      <td>Puzzles</td>\n",
              "      <td>0</td>\n",
              "    </tr>\n",
              "    <tr>\n",
              "      <th>1</th>\n",
              "      <td>0005069491</td>\n",
              "      <td>Nursery Rhymes Felt Book</td>\n",
              "      <td>15.66</td>\n",
              "      <td>Toys &amp; Games</td>\n",
              "      <td>Toys &amp; Games</td>\n",
              "      <td>0</td>\n",
              "    </tr>\n",
              "    <tr>\n",
              "      <th>2</th>\n",
              "      <td>0076561046</td>\n",
              "      <td>Fraction Decimal Percent Card Deck</td>\n",
              "      <td>3.99</td>\n",
              "      <td>Toys &amp; Games</td>\n",
              "      <td>Learning &amp; Education</td>\n",
              "      <td>0</td>\n",
              "    </tr>\n",
              "    <tr>\n",
              "      <th>3</th>\n",
              "      <td>0131358936</td>\n",
              "      <td>Toys&amp;Games</td>\n",
              "      <td>36.22</td>\n",
              "      <td>Toys &amp; Games</td>\n",
              "      <td>Learning &amp; Education</td>\n",
              "      <td>1</td>\n",
              "    </tr>\n",
              "    <tr>\n",
              "      <th>4</th>\n",
              "      <td>0133642984</td>\n",
              "      <td>Algebra 2 California Teacher Center</td>\n",
              "      <td>731.93</td>\n",
              "      <td>Toys &amp; Games</td>\n",
              "      <td>Learning &amp; Education</td>\n",
              "      <td>0</td>\n",
              "    </tr>\n",
              "  </tbody>\n",
              "</table>\n",
              "</div>"
            ],
            "text/plain": [
              "    ProductID                                           title   price  \\\n",
              "0  0000191639  Dr. Suess 19163 Dr. Seuss Puzzle 3 Pack Bundle   37.12   \n",
              "1  0005069491                        Nursery Rhymes Felt Book   15.66   \n",
              "2  0076561046              Fraction Decimal Percent Card Deck    3.99   \n",
              "3  0131358936                                      Toys&Games   36.22   \n",
              "4  0133642984             Algebra 2 California Teacher Center  731.93   \n",
              "\n",
              "       Category           Sub-category  also_buy  \n",
              "0  Toys & Games                Puzzles         0  \n",
              "1  Toys & Games           Toys & Games         0  \n",
              "2  Toys & Games   Learning & Education         0  \n",
              "3  Toys & Games   Learning & Education         1  \n",
              "4  Toys & Games   Learning & Education         0  "
            ]
          },
          "execution_count": 102,
          "metadata": {},
          "output_type": "execute_result"
        }
      ],
      "source": [
        "df_sort_MTG.head()"
      ]
    },
    {
      "cell_type": "code",
      "execution_count": 104,
      "metadata": {},
      "outputs": [
        {
          "data": {
            "text/plain": [
              "72"
            ]
          },
          "execution_count": 104,
          "metadata": {},
          "output_type": "execute_result"
        }
      ],
      "source": [
        "len(df_sort_MTG['Sub-category'].unique())"
      ]
    },
    {
      "cell_type": "code",
      "execution_count": 43,
      "metadata": {},
      "outputs": [
        {
          "data": {
            "text/html": [
              "<style>#sk-container-id-1 {color: black;background-color: white;}#sk-container-id-1 pre{padding: 0;}#sk-container-id-1 div.sk-toggleable {background-color: white;}#sk-container-id-1 label.sk-toggleable__label {cursor: pointer;display: block;width: 100%;margin-bottom: 0;padding: 0.3em;box-sizing: border-box;text-align: center;}#sk-container-id-1 label.sk-toggleable__label-arrow:before {content: \"▸\";float: left;margin-right: 0.25em;color: #696969;}#sk-container-id-1 label.sk-toggleable__label-arrow:hover:before {color: black;}#sk-container-id-1 div.sk-estimator:hover label.sk-toggleable__label-arrow:before {color: black;}#sk-container-id-1 div.sk-toggleable__content {max-height: 0;max-width: 0;overflow: hidden;text-align: left;background-color: #f0f8ff;}#sk-container-id-1 div.sk-toggleable__content pre {margin: 0.2em;color: black;border-radius: 0.25em;background-color: #f0f8ff;}#sk-container-id-1 input.sk-toggleable__control:checked~div.sk-toggleable__content {max-height: 200px;max-width: 100%;overflow: auto;}#sk-container-id-1 input.sk-toggleable__control:checked~label.sk-toggleable__label-arrow:before {content: \"▾\";}#sk-container-id-1 div.sk-estimator input.sk-toggleable__control:checked~label.sk-toggleable__label {background-color: #d4ebff;}#sk-container-id-1 div.sk-label input.sk-toggleable__control:checked~label.sk-toggleable__label {background-color: #d4ebff;}#sk-container-id-1 input.sk-hidden--visually {border: 0;clip: rect(1px 1px 1px 1px);clip: rect(1px, 1px, 1px, 1px);height: 1px;margin: -1px;overflow: hidden;padding: 0;position: absolute;width: 1px;}#sk-container-id-1 div.sk-estimator {font-family: monospace;background-color: #f0f8ff;border: 1px dotted black;border-radius: 0.25em;box-sizing: border-box;margin-bottom: 0.5em;}#sk-container-id-1 div.sk-estimator:hover {background-color: #d4ebff;}#sk-container-id-1 div.sk-parallel-item::after {content: \"\";width: 100%;border-bottom: 1px solid gray;flex-grow: 1;}#sk-container-id-1 div.sk-label:hover label.sk-toggleable__label {background-color: #d4ebff;}#sk-container-id-1 div.sk-serial::before {content: \"\";position: absolute;border-left: 1px solid gray;box-sizing: border-box;top: 0;bottom: 0;left: 50%;z-index: 0;}#sk-container-id-1 div.sk-serial {display: flex;flex-direction: column;align-items: center;background-color: white;padding-right: 0.2em;padding-left: 0.2em;position: relative;}#sk-container-id-1 div.sk-item {position: relative;z-index: 1;}#sk-container-id-1 div.sk-parallel {display: flex;align-items: stretch;justify-content: center;background-color: white;position: relative;}#sk-container-id-1 div.sk-item::before, #sk-container-id-1 div.sk-parallel-item::before {content: \"\";position: absolute;border-left: 1px solid gray;box-sizing: border-box;top: 0;bottom: 0;left: 50%;z-index: -1;}#sk-container-id-1 div.sk-parallel-item {display: flex;flex-direction: column;z-index: 1;position: relative;background-color: white;}#sk-container-id-1 div.sk-parallel-item:first-child::after {align-self: flex-end;width: 50%;}#sk-container-id-1 div.sk-parallel-item:last-child::after {align-self: flex-start;width: 50%;}#sk-container-id-1 div.sk-parallel-item:only-child::after {width: 0;}#sk-container-id-1 div.sk-dashed-wrapped {border: 1px dashed gray;margin: 0 0.4em 0.5em 0.4em;box-sizing: border-box;padding-bottom: 0.4em;background-color: white;}#sk-container-id-1 div.sk-label label {font-family: monospace;font-weight: bold;display: inline-block;line-height: 1.2em;}#sk-container-id-1 div.sk-label-container {text-align: center;}#sk-container-id-1 div.sk-container {/* jupyter's `normalize.less` sets `[hidden] { display: none; }` but bootstrap.min.css set `[hidden] { display: none !important; }` so we also need the `!important` here to be able to override the default hidden behavior on the sphinx rendered scikit-learn.org. See: https://github.com/scikit-learn/scikit-learn/issues/21755 */display: inline-block !important;position: relative;}#sk-container-id-1 div.sk-text-repr-fallback {display: none;}</style><div id=\"sk-container-id-1\" class=\"sk-top-container\"><div class=\"sk-text-repr-fallback\"><pre>LabelEncoder()</pre><b>In a Jupyter environment, please rerun this cell to show the HTML representation or trust the notebook. <br />On GitHub, the HTML representation is unable to render, please try loading this page with nbviewer.org.</b></div><div class=\"sk-container\" hidden><div class=\"sk-item\"><div class=\"sk-estimator sk-toggleable\"><input class=\"sk-toggleable__control sk-hidden--visually\" id=\"sk-estimator-id-1\" type=\"checkbox\" checked><label for=\"sk-estimator-id-1\" class=\"sk-toggleable__label sk-toggleable__label-arrow\">LabelEncoder</label><div class=\"sk-toggleable__content\"><pre>LabelEncoder()</pre></div></div></div></div></div>"
            ],
            "text/plain": [
              "LabelEncoder()"
            ]
          },
          "execution_count": 43,
          "metadata": {},
          "output_type": "execute_result"
        }
      ],
      "source": [
        "from sklearn.preprocessing import LabelEncoder\n",
        "\n",
        "# Assuming df_sort_MVG is your DataFrame\n",
        "sub_categories = df_sort_MTG['Sub-category'].unique()\n",
        "\n",
        "# Initialize the LabelEncoder\n",
        "label_encoder = LabelEncoder()\n",
        "label_encoder.fit(sub_categories)"
      ]
    },
    {
      "cell_type": "code",
      "execution_count": 44,
      "metadata": {},
      "outputs": [],
      "source": [
        "df_sort_MTG['Sub-category_encoded'] = label_encoder.transform(df_sort_MTG['Sub-category'])"
      ]
    },
    {
      "cell_type": "code",
      "execution_count": 45,
      "metadata": {},
      "outputs": [
        {
          "data": {
            "text/html": [
              "<div>\n",
              "<style scoped>\n",
              "    .dataframe tbody tr th:only-of-type {\n",
              "        vertical-align: middle;\n",
              "    }\n",
              "\n",
              "    .dataframe tbody tr th {\n",
              "        vertical-align: top;\n",
              "    }\n",
              "\n",
              "    .dataframe thead th {\n",
              "        text-align: right;\n",
              "    }\n",
              "</style>\n",
              "<table border=\"1\" class=\"dataframe\">\n",
              "  <thead>\n",
              "    <tr style=\"text-align: right;\">\n",
              "      <th></th>\n",
              "      <th>ProductID</th>\n",
              "      <th>title</th>\n",
              "      <th>price</th>\n",
              "      <th>Category</th>\n",
              "      <th>Sub-category</th>\n",
              "      <th>also_buy</th>\n",
              "      <th>Sub-category_encoded</th>\n",
              "    </tr>\n",
              "  </thead>\n",
              "  <tbody>\n",
              "    <tr>\n",
              "      <th>330006</th>\n",
              "      <td>B00HSVPSQ0</td>\n",
              "      <td>Dragon Ball Z Ss3 Goku High Grade Revival PVC ...</td>\n",
              "      <td>NaN</td>\n",
              "      <td>Toys &amp; Games</td>\n",
              "      <td>Action Figures &amp; Statues</td>\n",
              "      <td>0</td>\n",
              "      <td>3</td>\n",
              "    </tr>\n",
              "    <tr>\n",
              "      <th>85202</th>\n",
              "      <td>B0014FIO12</td>\n",
              "      <td>Ugly Doll Babo's Bird 4&amp;quot; Ugly Doll Clip-On</td>\n",
              "      <td>3.20</td>\n",
              "      <td>Toys &amp; Games</td>\n",
              "      <td>Stuffed Animals &amp; Plush</td>\n",
              "      <td>1</td>\n",
              "      <td>65</td>\n",
              "    </tr>\n",
              "    <tr>\n",
              "      <th>282096</th>\n",
              "      <td>B00A9NKHY2</td>\n",
              "      <td>3D Semi-circular Black and White Checkered Sku...</td>\n",
              "      <td>2.99</td>\n",
              "      <td>Toys &amp; Games</td>\n",
              "      <td>Arts &amp; Crafts</td>\n",
              "      <td>1</td>\n",
              "      <td>5</td>\n",
              "    </tr>\n",
              "    <tr>\n",
              "      <th>158106</th>\n",
              "      <td>B003EH3GV6</td>\n",
              "      <td>Mighty Wheels Army Humvee Truck Diecast</td>\n",
              "      <td>NaN</td>\n",
              "      <td>Toys &amp; Games</td>\n",
              "      <td>Toy Remote Control &amp; Play Vehicles</td>\n",
              "      <td>1</td>\n",
              "      <td>69</td>\n",
              "    </tr>\n",
              "    <tr>\n",
              "      <th>311620</th>\n",
              "      <td>B00DYFB3HW</td>\n",
              "      <td>Disney Doc McStuffins Sticker Sheets 4 Pack</td>\n",
              "      <td>2.00</td>\n",
              "      <td>Toys &amp; Games</td>\n",
              "      <td>Arts &amp; Crafts</td>\n",
              "      <td>1</td>\n",
              "      <td>5</td>\n",
              "    </tr>\n",
              "    <tr>\n",
              "      <th>145826</th>\n",
              "      <td>B0030PIVDU</td>\n",
              "      <td>ZhuZhu GIANT Hamster FUN House (hamsters sold ...</td>\n",
              "      <td>NaN</td>\n",
              "      <td>Toys &amp; Games</td>\n",
              "      <td>Action Figures &amp; Statues</td>\n",
              "      <td>0</td>\n",
              "      <td>3</td>\n",
              "    </tr>\n",
              "    <tr>\n",
              "      <th>63732</th>\n",
              "      <td>B000Q1FD4Q</td>\n",
              "      <td>Yoda Dashboard Driver</td>\n",
              "      <td>NaN</td>\n",
              "      <td>Toys &amp; Games</td>\n",
              "      <td>Toy Remote Control &amp; Play Vehicles</td>\n",
              "      <td>0</td>\n",
              "      <td>69</td>\n",
              "    </tr>\n",
              "    <tr>\n",
              "      <th>141626</th>\n",
              "      <td>B002VQ457A</td>\n",
              "      <td>Pack of 12 Zoo Animal Shaped Rubber Bands</td>\n",
              "      <td>2.49</td>\n",
              "      <td>Toys &amp; Games</td>\n",
              "      <td>Dress Up &amp; Pretend Play</td>\n",
              "      <td>0</td>\n",
              "      <td>22</td>\n",
              "    </tr>\n",
              "    <tr>\n",
              "      <th>45213</th>\n",
              "      <td>B000H3N8OA</td>\n",
              "      <td>Truck Driver</td>\n",
              "      <td>NaN</td>\n",
              "      <td>Toys &amp; Games</td>\n",
              "      <td>Dolls &amp; Accessories</td>\n",
              "      <td>0</td>\n",
              "      <td>21</td>\n",
              "    </tr>\n",
              "    <tr>\n",
              "      <th>240586</th>\n",
              "      <td>B0072H7MN2</td>\n",
              "      <td>100% Catholic Iron On Embroidered Applique Pat...</td>\n",
              "      <td>NaN</td>\n",
              "      <td>Toys &amp; Games</td>\n",
              "      <td>Arts &amp; Crafts</td>\n",
              "      <td>1</td>\n",
              "      <td>5</td>\n",
              "    </tr>\n",
              "  </tbody>\n",
              "</table>\n",
              "</div>"
            ],
            "text/plain": [
              "         ProductID                                              title  price  \\\n",
              "330006  B00HSVPSQ0  Dragon Ball Z Ss3 Goku High Grade Revival PVC ...    NaN   \n",
              "85202   B0014FIO12    Ugly Doll Babo's Bird 4&quot; Ugly Doll Clip-On   3.20   \n",
              "282096  B00A9NKHY2  3D Semi-circular Black and White Checkered Sku...   2.99   \n",
              "158106  B003EH3GV6            Mighty Wheels Army Humvee Truck Diecast    NaN   \n",
              "311620  B00DYFB3HW        Disney Doc McStuffins Sticker Sheets 4 Pack   2.00   \n",
              "145826  B0030PIVDU  ZhuZhu GIANT Hamster FUN House (hamsters sold ...    NaN   \n",
              "63732   B000Q1FD4Q                              Yoda Dashboard Driver    NaN   \n",
              "141626  B002VQ457A          Pack of 12 Zoo Animal Shaped Rubber Bands   2.49   \n",
              "45213   B000H3N8OA                                       Truck Driver    NaN   \n",
              "240586  B0072H7MN2  100% Catholic Iron On Embroidered Applique Pat...    NaN   \n",
              "\n",
              "            Category                         Sub-category  also_buy  \\\n",
              "330006  Toys & Games             Action Figures & Statues         0   \n",
              "85202   Toys & Games              Stuffed Animals & Plush         1   \n",
              "282096  Toys & Games                        Arts & Crafts         1   \n",
              "158106  Toys & Games   Toy Remote Control & Play Vehicles         1   \n",
              "311620  Toys & Games                        Arts & Crafts         1   \n",
              "145826  Toys & Games             Action Figures & Statues         0   \n",
              "63732   Toys & Games   Toy Remote Control & Play Vehicles         0   \n",
              "141626  Toys & Games              Dress Up & Pretend Play         0   \n",
              "45213   Toys & Games                  Dolls & Accessories         0   \n",
              "240586  Toys & Games                        Arts & Crafts         1   \n",
              "\n",
              "        Sub-category_encoded  \n",
              "330006                     3  \n",
              "85202                     65  \n",
              "282096                     5  \n",
              "158106                    69  \n",
              "311620                     5  \n",
              "145826                     3  \n",
              "63732                     69  \n",
              "141626                    22  \n",
              "45213                     21  \n",
              "240586                     5  "
            ]
          },
          "execution_count": 45,
          "metadata": {},
          "output_type": "execute_result"
        }
      ],
      "source": [
        "df_sort_MTG.sample(10)"
      ]
    },
    {
      "cell_type": "code",
      "execution_count": 46,
      "metadata": {},
      "outputs": [],
      "source": [
        "df_sort_MTG.set_index('Sub-category_encoded', inplace=True)"
      ]
    },
    {
      "cell_type": "markdown",
      "metadata": {},
      "source": [
        "## Filling price variable values using interpolate function"
      ]
    },
    {
      "cell_type": "code",
      "execution_count": 47,
      "metadata": {},
      "outputs": [],
      "source": [
        "df_sort_MTG['price'] = df_sort_MTG['price'].interpolate(method='index', limit_direction=\"both\")"
      ]
    },
    {
      "cell_type": "code",
      "execution_count": 48,
      "metadata": {},
      "outputs": [],
      "source": [
        "df_sort_MTG.reset_index(inplace=True)\n",
        "df_sort_MTG.drop('Sub-category_encoded',axis=1,inplace=True)"
      ]
    },
    {
      "cell_type": "code",
      "execution_count": 115,
      "metadata": {},
      "outputs": [
        {
          "data": {
            "text/plain": [
              "336072"
            ]
          },
          "execution_count": 115,
          "metadata": {},
          "output_type": "execute_result"
        }
      ],
      "source": [
        "len(df_sort_MTG['ProductID'].value_counts())"
      ]
    },
    {
      "cell_type": "code",
      "execution_count": 117,
      "metadata": {},
      "outputs": [
        {
          "data": {
            "text/plain": [
              "40"
            ]
          },
          "execution_count": 117,
          "metadata": {},
          "output_type": "execute_result"
        }
      ],
      "source": [
        "replaced_values = df_sort_MTG[df_sort_MTG['price'] != df_temp_MTG['price']]\n",
        "len(replaced_values['price'].value_counts())"
      ]
    },
    {
      "cell_type": "code",
      "execution_count": 50,
      "metadata": {},
      "outputs": [],
      "source": [
        "df_sort_MTG.to_csv('T&G_EDA_Data.csv', index=False)"
      ]
    },
    {
      "cell_type": "markdown",
      "metadata": {},
      "source": [
        "# --------------------"
      ]
    },
    {
      "cell_type": "markdown",
      "metadata": {},
      "source": [
        "# <CENTER>  5-core Data"
      ]
    },
    {
      "cell_type": "code",
      "execution_count": 118,
      "metadata": {
        "colab": {
          "base_uri": "https://localhost:8080/",
          "height": 191
        },
        "id": "SRWU6HRFjT5s",
        "outputId": "47ccf901-3ce5-4bba-b692-91fcd1f65944"
      },
      "outputs": [
        {
          "data": {
            "text/html": [
              "<div>\n",
              "<style scoped>\n",
              "    .dataframe tbody tr th:only-of-type {\n",
              "        vertical-align: middle;\n",
              "    }\n",
              "\n",
              "    .dataframe tbody tr th {\n",
              "        vertical-align: top;\n",
              "    }\n",
              "\n",
              "    .dataframe thead th {\n",
              "        text-align: right;\n",
              "    }\n",
              "</style>\n",
              "<table border=\"1\" class=\"dataframe\">\n",
              "  <thead>\n",
              "    <tr style=\"text-align: right;\">\n",
              "      <th></th>\n",
              "      <th>reviewerID</th>\n",
              "      <th>asin</th>\n",
              "      <th>reviewerName</th>\n",
              "      <th>helpful</th>\n",
              "      <th>reviewText</th>\n",
              "      <th>overall</th>\n",
              "      <th>summary</th>\n",
              "      <th>unixReviewTime</th>\n",
              "      <th>reviewTime</th>\n",
              "    </tr>\n",
              "  </thead>\n",
              "  <tbody>\n",
              "    <tr>\n",
              "      <th>0</th>\n",
              "      <td>A1VXOAVRGKGEAK</td>\n",
              "      <td>0439893577</td>\n",
              "      <td>Angie</td>\n",
              "      <td>[0, 0]</td>\n",
              "      <td>I like the item pricing. My granddaughter want...</td>\n",
              "      <td>5.0</td>\n",
              "      <td>Magnetic board</td>\n",
              "      <td>1390953600</td>\n",
              "      <td>01 29, 2014</td>\n",
              "    </tr>\n",
              "    <tr>\n",
              "      <th>1</th>\n",
              "      <td>A8R62G708TSCM</td>\n",
              "      <td>0439893577</td>\n",
              "      <td>Candace</td>\n",
              "      <td>[1, 1]</td>\n",
              "      <td>Love the magnet easel... great for moving to d...</td>\n",
              "      <td>4.0</td>\n",
              "      <td>it works pretty good for moving to different a...</td>\n",
              "      <td>1395964800</td>\n",
              "      <td>03 28, 2014</td>\n",
              "    </tr>\n",
              "  </tbody>\n",
              "</table>\n",
              "</div>"
            ],
            "text/plain": [
              "       reviewerID        asin reviewerName helpful  \\\n",
              "0  A1VXOAVRGKGEAK  0439893577        Angie  [0, 0]   \n",
              "1   A8R62G708TSCM  0439893577      Candace  [1, 1]   \n",
              "\n",
              "                                          reviewText  overall  \\\n",
              "0  I like the item pricing. My granddaughter want...      5.0   \n",
              "1  Love the magnet easel... great for moving to d...      4.0   \n",
              "\n",
              "                                             summary  unixReviewTime  \\\n",
              "0                                     Magnetic board      1390953600   \n",
              "1  it works pretty good for moving to different a...      1395964800   \n",
              "\n",
              "    reviewTime  \n",
              "0  01 29, 2014  \n",
              "1  03 28, 2014  "
            ]
          },
          "execution_count": 118,
          "metadata": {},
          "output_type": "execute_result"
        }
      ],
      "source": [
        "df_5_TG.head(2)"
      ]
    },
    {
      "cell_type": "code",
      "execution_count": 119,
      "metadata": {},
      "outputs": [
        {
          "data": {
            "text/plain": [
              "(167597, 9)"
            ]
          },
          "execution_count": 119,
          "metadata": {},
          "output_type": "execute_result"
        }
      ],
      "source": [
        "df_5_TG.shape"
      ]
    },
    {
      "cell_type": "code",
      "execution_count": 32,
      "metadata": {},
      "outputs": [
        {
          "name": "stdout",
          "output_type": "stream",
          "text": [
            "The reviewer ID ['A1VXOAVRGKGEAK'] is present in df_R_TG.\n"
          ]
        }
      ],
      "source": [
        "# given_reviewer_id = [\"A1VXOAVRGKGEAK\"]\n",
        "# is_present = given_reviewer_id in df_R_TG['reviewerID'].values\n",
        "\n",
        "# if is_present:\n",
        "#     print(f\"The reviewer ID {given_reviewer_id} is present in df_R_TG.\")\n",
        "# else:\n",
        "#     print(f\"The reviewer ID {given_reviewer_id} is not present in df_R_TG.\")"
      ]
    },
    {
      "cell_type": "code",
      "execution_count": 37,
      "metadata": {},
      "outputs": [
        {
          "name": "stdout",
          "output_type": "stream",
          "text": [
            "Total present: 100\n",
            "Total Not present: 0\n"
          ]
        }
      ],
      "source": [
        "# P_count = 0\n",
        "# NP_count = 0\n",
        "# for i in df_5_TG['reviewerID'].values[:100]:\n",
        "#     if i in df_R_TG['reviewerID'].values:\n",
        "#         P_count += 1\n",
        "#     else:\n",
        "#         NP_count += 1\n",
        "# print('Total present:',P_count)\n",
        "# print('Total Not present:',NP_count)"
      ]
    },
    {
      "cell_type": "code",
      "execution_count": 120,
      "metadata": {},
      "outputs": [
        {
          "data": {
            "text/plain": [
              "11924"
            ]
          },
          "execution_count": 120,
          "metadata": {},
          "output_type": "execute_result"
        }
      ],
      "source": [
        "len(df_5_TG['asin'].value_counts())"
      ]
    },
    {
      "cell_type": "code",
      "execution_count": 124,
      "metadata": {},
      "outputs": [
        {
          "data": {
            "text/plain": [
              "AJGU56YG8G1DQ     550\n",
              "A1M8AYAL3L8ACP    168\n",
              "A1II2ZRPKZAQQD    157\n",
              "A2WW57XX2UVLM6    151\n",
              "A1POFVVXUZR3IQ    133\n",
              "                 ... \n",
              "A3NLQWUUML5S7F      5\n",
              "A2AWAXPNKJT5TE      5\n",
              "A1GQ1JGK9YM6BU      5\n",
              "A2Q7M6BFUX21L9      5\n",
              "A1KQNP8MOJDJKC      5\n",
              "Name: reviewerID, Length: 19412, dtype: int64"
            ]
          },
          "execution_count": 124,
          "metadata": {},
          "output_type": "execute_result"
        }
      ],
      "source": [
        "df_5_TG['reviewerID'].value_counts()"
      ]
    },
    {
      "cell_type": "code",
      "execution_count": 121,
      "metadata": {},
      "outputs": [],
      "source": [
        "df_temp_5TG=df_5_TG.copy()"
      ]
    },
    {
      "cell_type": "code",
      "execution_count": 126,
      "metadata": {},
      "outputs": [
        {
          "data": {
            "text/html": [
              "<div>\n",
              "<style scoped>\n",
              "    .dataframe tbody tr th:only-of-type {\n",
              "        vertical-align: middle;\n",
              "    }\n",
              "\n",
              "    .dataframe tbody tr th {\n",
              "        vertical-align: top;\n",
              "    }\n",
              "\n",
              "    .dataframe thead th {\n",
              "        text-align: right;\n",
              "    }\n",
              "</style>\n",
              "<table border=\"1\" class=\"dataframe\">\n",
              "  <thead>\n",
              "    <tr style=\"text-align: right;\">\n",
              "      <th></th>\n",
              "      <th>reviewerID</th>\n",
              "      <th>ProductID</th>\n",
              "      <th>reviewerName</th>\n",
              "      <th>helpful</th>\n",
              "      <th>reviewText</th>\n",
              "      <th>overall</th>\n",
              "      <th>summary</th>\n",
              "      <th>unixReviewTime</th>\n",
              "      <th>reviewTime</th>\n",
              "    </tr>\n",
              "  </thead>\n",
              "  <tbody>\n",
              "    <tr>\n",
              "      <th>0</th>\n",
              "      <td>A1VXOAVRGKGEAK</td>\n",
              "      <td>0439893577</td>\n",
              "      <td>Angie</td>\n",
              "      <td>[0, 0]</td>\n",
              "      <td>I like the item pricing. My granddaughter want...</td>\n",
              "      <td>5.0</td>\n",
              "      <td>Magnetic board</td>\n",
              "      <td>1390953600</td>\n",
              "      <td>01 29, 2014</td>\n",
              "    </tr>\n",
              "    <tr>\n",
              "      <th>1</th>\n",
              "      <td>A8R62G708TSCM</td>\n",
              "      <td>0439893577</td>\n",
              "      <td>Candace</td>\n",
              "      <td>[1, 1]</td>\n",
              "      <td>Love the magnet easel... great for moving to d...</td>\n",
              "      <td>4.0</td>\n",
              "      <td>it works pretty good for moving to different a...</td>\n",
              "      <td>1395964800</td>\n",
              "      <td>03 28, 2014</td>\n",
              "    </tr>\n",
              "  </tbody>\n",
              "</table>\n",
              "</div>"
            ],
            "text/plain": [
              "       reviewerID   ProductID reviewerName helpful  \\\n",
              "0  A1VXOAVRGKGEAK  0439893577        Angie  [0, 0]   \n",
              "1   A8R62G708TSCM  0439893577      Candace  [1, 1]   \n",
              "\n",
              "                                          reviewText  overall  \\\n",
              "0  I like the item pricing. My granddaughter want...      5.0   \n",
              "1  Love the magnet easel... great for moving to d...      4.0   \n",
              "\n",
              "                                             summary  unixReviewTime  \\\n",
              "0                                     Magnetic board      1390953600   \n",
              "1  it works pretty good for moving to different a...      1395964800   \n",
              "\n",
              "    reviewTime  \n",
              "0  01 29, 2014  \n",
              "1  03 28, 2014  "
            ]
          },
          "execution_count": 126,
          "metadata": {},
          "output_type": "execute_result"
        }
      ],
      "source": [
        "df_temp_5TG.head(2)"
      ]
    },
    {
      "cell_type": "code",
      "execution_count": 138,
      "metadata": {},
      "outputs": [
        {
          "data": {
            "text/html": [
              "<div>\n",
              "<style scoped>\n",
              "    .dataframe tbody tr th:only-of-type {\n",
              "        vertical-align: middle;\n",
              "    }\n",
              "\n",
              "    .dataframe tbody tr th {\n",
              "        vertical-align: top;\n",
              "    }\n",
              "\n",
              "    .dataframe thead th {\n",
              "        text-align: right;\n",
              "    }\n",
              "</style>\n",
              "<table border=\"1\" class=\"dataframe\">\n",
              "  <thead>\n",
              "    <tr style=\"text-align: right;\">\n",
              "      <th></th>\n",
              "      <th>reviewerID</th>\n",
              "      <th>asin</th>\n",
              "      <th>reviewerName</th>\n",
              "      <th>helpful</th>\n",
              "      <th>reviewText</th>\n",
              "      <th>overall</th>\n",
              "      <th>summary</th>\n",
              "      <th>unixReviewTime</th>\n",
              "      <th>reviewTime</th>\n",
              "    </tr>\n",
              "  </thead>\n",
              "  <tbody>\n",
              "    <tr>\n",
              "      <th>1180036</th>\n",
              "      <td>AJGU56YG8G1DQ</td>\n",
              "      <td>1528</td>\n",
              "      <td>1527</td>\n",
              "      <td>1528</td>\n",
              "      <td>1528</td>\n",
              "      <td>1528</td>\n",
              "      <td>1528</td>\n",
              "      <td>1528</td>\n",
              "      <td>1528</td>\n",
              "    </tr>\n",
              "    <tr>\n",
              "      <th>1254040</th>\n",
              "      <td>AQZH7YTWQPOBE</td>\n",
              "      <td>570</td>\n",
              "      <td>570</td>\n",
              "      <td>570</td>\n",
              "      <td>570</td>\n",
              "      <td>570</td>\n",
              "      <td>570</td>\n",
              "      <td>570</td>\n",
              "      <td>570</td>\n",
              "    </tr>\n",
              "    <tr>\n",
              "      <th>679830</th>\n",
              "      <td>A2WW57XX2UVLM6</td>\n",
              "      <td>488</td>\n",
              "      <td>488</td>\n",
              "      <td>488</td>\n",
              "      <td>488</td>\n",
              "      <td>488</td>\n",
              "      <td>488</td>\n",
              "      <td>488</td>\n",
              "      <td>488</td>\n",
              "    </tr>\n",
              "    <tr>\n",
              "      <th>62374</th>\n",
              "      <td>A168O2YKPE9BE8</td>\n",
              "      <td>409</td>\n",
              "      <td>409</td>\n",
              "      <td>409</td>\n",
              "      <td>409</td>\n",
              "      <td>409</td>\n",
              "      <td>409</td>\n",
              "      <td>409</td>\n",
              "      <td>409</td>\n",
              "    </tr>\n",
              "    <tr>\n",
              "      <th>272789</th>\n",
              "      <td>A1RKCT4H3X3J1W</td>\n",
              "      <td>407</td>\n",
              "      <td>407</td>\n",
              "      <td>407</td>\n",
              "      <td>407</td>\n",
              "      <td>407</td>\n",
              "      <td>407</td>\n",
              "      <td>407</td>\n",
              "      <td>407</td>\n",
              "    </tr>\n",
              "    <tr>\n",
              "      <th>...</th>\n",
              "      <td>...</td>\n",
              "      <td>...</td>\n",
              "      <td>...</td>\n",
              "      <td>...</td>\n",
              "      <td>...</td>\n",
              "      <td>...</td>\n",
              "      <td>...</td>\n",
              "      <td>...</td>\n",
              "      <td>...</td>\n",
              "    </tr>\n",
              "    <tr>\n",
              "      <th>517286</th>\n",
              "      <td>A2GD8F3D9741Q2</td>\n",
              "      <td>1</td>\n",
              "      <td>1</td>\n",
              "      <td>1</td>\n",
              "      <td>1</td>\n",
              "      <td>1</td>\n",
              "      <td>1</td>\n",
              "      <td>1</td>\n",
              "      <td>1</td>\n",
              "    </tr>\n",
              "    <tr>\n",
              "      <th>517287</th>\n",
              "      <td>A2GD8JVPU0YYSK</td>\n",
              "      <td>1</td>\n",
              "      <td>1</td>\n",
              "      <td>1</td>\n",
              "      <td>1</td>\n",
              "      <td>1</td>\n",
              "      <td>1</td>\n",
              "      <td>1</td>\n",
              "      <td>1</td>\n",
              "    </tr>\n",
              "    <tr>\n",
              "      <th>517288</th>\n",
              "      <td>A2GD8P9MG59G0A</td>\n",
              "      <td>1</td>\n",
              "      <td>1</td>\n",
              "      <td>1</td>\n",
              "      <td>1</td>\n",
              "      <td>1</td>\n",
              "      <td>1</td>\n",
              "      <td>1</td>\n",
              "      <td>1</td>\n",
              "    </tr>\n",
              "    <tr>\n",
              "      <th>517289</th>\n",
              "      <td>A2GD8PQ4RCC0HA</td>\n",
              "      <td>1</td>\n",
              "      <td>1</td>\n",
              "      <td>1</td>\n",
              "      <td>1</td>\n",
              "      <td>1</td>\n",
              "      <td>1</td>\n",
              "      <td>1</td>\n",
              "      <td>1</td>\n",
              "    </tr>\n",
              "    <tr>\n",
              "      <th>1342910</th>\n",
              "      <td>AZZZZS5Z6MEWC</td>\n",
              "      <td>1</td>\n",
              "      <td>1</td>\n",
              "      <td>1</td>\n",
              "      <td>1</td>\n",
              "      <td>1</td>\n",
              "      <td>1</td>\n",
              "      <td>1</td>\n",
              "      <td>1</td>\n",
              "    </tr>\n",
              "  </tbody>\n",
              "</table>\n",
              "<p>1342911 rows × 9 columns</p>\n",
              "</div>"
            ],
            "text/plain": [
              "             reviewerID  asin  reviewerName  helpful  reviewText  overall  \\\n",
              "1180036   AJGU56YG8G1DQ  1528          1527     1528        1528     1528   \n",
              "1254040   AQZH7YTWQPOBE   570           570      570         570      570   \n",
              "679830   A2WW57XX2UVLM6   488           488      488         488      488   \n",
              "62374    A168O2YKPE9BE8   409           409      409         409      409   \n",
              "272789   A1RKCT4H3X3J1W   407           407      407         407      407   \n",
              "...                 ...   ...           ...      ...         ...      ...   \n",
              "517286   A2GD8F3D9741Q2     1             1        1           1        1   \n",
              "517287   A2GD8JVPU0YYSK     1             1        1           1        1   \n",
              "517288   A2GD8P9MG59G0A     1             1        1           1        1   \n",
              "517289   A2GD8PQ4RCC0HA     1             1        1           1        1   \n",
              "1342910   AZZZZS5Z6MEWC     1             1        1           1        1   \n",
              "\n",
              "         summary  unixReviewTime  reviewTime  \n",
              "1180036     1528            1528        1528  \n",
              "1254040      570             570         570  \n",
              "679830       488             488         488  \n",
              "62374        409             409         409  \n",
              "272789       407             407         407  \n",
              "...          ...             ...         ...  \n",
              "517286         1               1           1  \n",
              "517287         1               1           1  \n",
              "517288         1               1           1  \n",
              "517289         1               1           1  \n",
              "1342910        1               1           1  \n",
              "\n",
              "[1342911 rows x 9 columns]"
            ]
          },
          "execution_count": 138,
          "metadata": {},
          "output_type": "execute_result"
        }
      ],
      "source": [
        "grouped_df = df_R_TG.groupby('reviewerID').agg({\n",
        "    'asin': 'count',\n",
        "    'reviewerName':'count',\n",
        "    'helpful':'count',\n",
        "    'reviewText':'count',\n",
        "    'overall':'count',\n",
        "    'summary':'count',\n",
        "    'unixReviewTime':'count',\n",
        "    'reviewTime':'count'\n",
        "}).reset_index()\n",
        "\n",
        "grouped_df.sort_values('asin',ascending=False)"
      ]
    },
    {
      "cell_type": "code",
      "execution_count": 135,
      "metadata": {},
      "outputs": [
        {
          "data": {
            "text/html": [
              "<div>\n",
              "<style scoped>\n",
              "    .dataframe tbody tr th:only-of-type {\n",
              "        vertical-align: middle;\n",
              "    }\n",
              "\n",
              "    .dataframe tbody tr th {\n",
              "        vertical-align: top;\n",
              "    }\n",
              "\n",
              "    .dataframe thead th {\n",
              "        text-align: right;\n",
              "    }\n",
              "</style>\n",
              "<table border=\"1\" class=\"dataframe\">\n",
              "  <thead>\n",
              "    <tr style=\"text-align: right;\">\n",
              "      <th></th>\n",
              "      <th>reviewerID</th>\n",
              "      <th>ProductID</th>\n",
              "      <th>reviewerName</th>\n",
              "      <th>helpful</th>\n",
              "      <th>reviewText</th>\n",
              "      <th>overall</th>\n",
              "      <th>summary</th>\n",
              "      <th>unixReviewTime</th>\n",
              "      <th>reviewTime</th>\n",
              "    </tr>\n",
              "  </thead>\n",
              "  <tbody>\n",
              "    <tr>\n",
              "      <th>17012</th>\n",
              "      <td>AJGU56YG8G1DQ</td>\n",
              "      <td>550</td>\n",
              "      <td>549</td>\n",
              "      <td>550</td>\n",
              "      <td>550</td>\n",
              "      <td>550</td>\n",
              "      <td>550</td>\n",
              "      <td>550</td>\n",
              "      <td>550</td>\n",
              "    </tr>\n",
              "    <tr>\n",
              "      <th>3140</th>\n",
              "      <td>A1M8AYAL3L8ACP</td>\n",
              "      <td>168</td>\n",
              "      <td>167</td>\n",
              "      <td>168</td>\n",
              "      <td>168</td>\n",
              "      <td>168</td>\n",
              "      <td>168</td>\n",
              "      <td>168</td>\n",
              "      <td>168</td>\n",
              "    </tr>\n",
              "    <tr>\n",
              "      <th>2587</th>\n",
              "      <td>A1II2ZRPKZAQQD</td>\n",
              "      <td>157</td>\n",
              "      <td>155</td>\n",
              "      <td>157</td>\n",
              "      <td>157</td>\n",
              "      <td>157</td>\n",
              "      <td>157</td>\n",
              "      <td>157</td>\n",
              "      <td>157</td>\n",
              "    </tr>\n",
              "    <tr>\n",
              "      <th>9812</th>\n",
              "      <td>A2WW57XX2UVLM6</td>\n",
              "      <td>151</td>\n",
              "      <td>151</td>\n",
              "      <td>151</td>\n",
              "      <td>151</td>\n",
              "      <td>151</td>\n",
              "      <td>151</td>\n",
              "      <td>151</td>\n",
              "      <td>151</td>\n",
              "    </tr>\n",
              "    <tr>\n",
              "      <th>3617</th>\n",
              "      <td>A1POFVVXUZR3IQ</td>\n",
              "      <td>133</td>\n",
              "      <td>133</td>\n",
              "      <td>133</td>\n",
              "      <td>133</td>\n",
              "      <td>133</td>\n",
              "      <td>133</td>\n",
              "      <td>133</td>\n",
              "      <td>133</td>\n",
              "    </tr>\n",
              "    <tr>\n",
              "      <th>...</th>\n",
              "      <td>...</td>\n",
              "      <td>...</td>\n",
              "      <td>...</td>\n",
              "      <td>...</td>\n",
              "      <td>...</td>\n",
              "      <td>...</td>\n",
              "      <td>...</td>\n",
              "      <td>...</td>\n",
              "      <td>...</td>\n",
              "    </tr>\n",
              "    <tr>\n",
              "      <th>6677</th>\n",
              "      <td>A2B3GYUQEAI8XK</td>\n",
              "      <td>5</td>\n",
              "      <td>5</td>\n",
              "      <td>5</td>\n",
              "      <td>5</td>\n",
              "      <td>5</td>\n",
              "      <td>5</td>\n",
              "      <td>5</td>\n",
              "      <td>5</td>\n",
              "    </tr>\n",
              "    <tr>\n",
              "      <th>6679</th>\n",
              "      <td>A2B44JHPZ1U92G</td>\n",
              "      <td>5</td>\n",
              "      <td>5</td>\n",
              "      <td>5</td>\n",
              "      <td>5</td>\n",
              "      <td>5</td>\n",
              "      <td>5</td>\n",
              "      <td>5</td>\n",
              "      <td>5</td>\n",
              "    </tr>\n",
              "    <tr>\n",
              "      <th>13990</th>\n",
              "      <td>A3QBB4VPEBJJ24</td>\n",
              "      <td>5</td>\n",
              "      <td>5</td>\n",
              "      <td>5</td>\n",
              "      <td>5</td>\n",
              "      <td>5</td>\n",
              "      <td>5</td>\n",
              "      <td>5</td>\n",
              "      <td>5</td>\n",
              "    </tr>\n",
              "    <tr>\n",
              "      <th>13988</th>\n",
              "      <td>A3QAQCG2OBJ9NA</td>\n",
              "      <td>5</td>\n",
              "      <td>5</td>\n",
              "      <td>5</td>\n",
              "      <td>5</td>\n",
              "      <td>5</td>\n",
              "      <td>5</td>\n",
              "      <td>5</td>\n",
              "      <td>5</td>\n",
              "    </tr>\n",
              "    <tr>\n",
              "      <th>5400</th>\n",
              "      <td>A227IZ65N4H0Q1</td>\n",
              "      <td>5</td>\n",
              "      <td>5</td>\n",
              "      <td>5</td>\n",
              "      <td>5</td>\n",
              "      <td>5</td>\n",
              "      <td>5</td>\n",
              "      <td>5</td>\n",
              "      <td>5</td>\n",
              "    </tr>\n",
              "  </tbody>\n",
              "</table>\n",
              "<p>19412 rows × 9 columns</p>\n",
              "</div>"
            ],
            "text/plain": [
              "           reviewerID  ProductID  reviewerName  helpful  reviewText  overall  \\\n",
              "17012   AJGU56YG8G1DQ        550           549      550         550      550   \n",
              "3140   A1M8AYAL3L8ACP        168           167      168         168      168   \n",
              "2587   A1II2ZRPKZAQQD        157           155      157         157      157   \n",
              "9812   A2WW57XX2UVLM6        151           151      151         151      151   \n",
              "3617   A1POFVVXUZR3IQ        133           133      133         133      133   \n",
              "...               ...        ...           ...      ...         ...      ...   \n",
              "6677   A2B3GYUQEAI8XK          5             5        5           5        5   \n",
              "6679   A2B44JHPZ1U92G          5             5        5           5        5   \n",
              "13990  A3QBB4VPEBJJ24          5             5        5           5        5   \n",
              "13988  A3QAQCG2OBJ9NA          5             5        5           5        5   \n",
              "5400   A227IZ65N4H0Q1          5             5        5           5        5   \n",
              "\n",
              "       summary  unixReviewTime  reviewTime  \n",
              "17012      550             550         550  \n",
              "3140       168             168         168  \n",
              "2587       157             157         157  \n",
              "9812       151             151         151  \n",
              "3617       133             133         133  \n",
              "...        ...             ...         ...  \n",
              "6677         5               5           5  \n",
              "6679         5               5           5  \n",
              "13990        5               5           5  \n",
              "13988        5               5           5  \n",
              "5400         5               5           5  \n",
              "\n",
              "[19412 rows x 9 columns]"
            ]
          },
          "execution_count": 135,
          "metadata": {},
          "output_type": "execute_result"
        }
      ],
      "source": [
        "grouped_df = df_temp_5TG.groupby('reviewerID').agg({\n",
        "    'ProductID': 'count',\n",
        "    'reviewerName':'count',\n",
        "    'helpful':'count',\n",
        "    'reviewText':'count',\n",
        "    'overall':'count',\n",
        "    'summary':'count',\n",
        "    'unixReviewTime':'count',\n",
        "    'reviewTime':'count'\n",
        "}).reset_index()\n",
        "\n",
        "grouped_df.sort_values('ProductID',ascending=False)"
      ]
    },
    {
      "cell_type": "markdown",
      "metadata": {},
      "source": [
        "## Changing 'asin' to 'ProductID'"
      ]
    },
    {
      "cell_type": "code",
      "execution_count": 122,
      "metadata": {},
      "outputs": [],
      "source": [
        "df_temp_5TG = df_temp_5TG.rename(columns={'asin': 'ProductID'})"
      ]
    },
    {
      "cell_type": "code",
      "execution_count": 139,
      "metadata": {},
      "outputs": [
        {
          "data": {
            "text/plain": [
              "reviewerID          0\n",
              "ProductID           0\n",
              "reviewerName      838\n",
              "helpful             0\n",
              "reviewText          0\n",
              "overall             0\n",
              "summary             0\n",
              "unixReviewTime      0\n",
              "reviewTime          0\n",
              "dtype: int64"
            ]
          },
          "execution_count": 139,
          "metadata": {},
          "output_type": "execute_result"
        }
      ],
      "source": [
        "df_temp_5TG.isnull().sum()"
      ]
    },
    {
      "cell_type": "code",
      "execution_count": 141,
      "metadata": {},
      "outputs": [],
      "source": [
        "df_temp_5TG['reviewerName'].fillna('Not_available',inplace=True)"
      ]
    },
    {
      "cell_type": "code",
      "execution_count": 142,
      "metadata": {},
      "outputs": [
        {
          "data": {
            "text/html": [
              "<div>\n",
              "<style scoped>\n",
              "    .dataframe tbody tr th:only-of-type {\n",
              "        vertical-align: middle;\n",
              "    }\n",
              "\n",
              "    .dataframe tbody tr th {\n",
              "        vertical-align: top;\n",
              "    }\n",
              "\n",
              "    .dataframe thead th {\n",
              "        text-align: right;\n",
              "    }\n",
              "</style>\n",
              "<table border=\"1\" class=\"dataframe\">\n",
              "  <thead>\n",
              "    <tr style=\"text-align: right;\">\n",
              "      <th></th>\n",
              "      <th>reviewerID</th>\n",
              "      <th>ProductID</th>\n",
              "      <th>reviewerName</th>\n",
              "      <th>helpful</th>\n",
              "      <th>reviewText</th>\n",
              "      <th>overall</th>\n",
              "      <th>summary</th>\n",
              "      <th>unixReviewTime</th>\n",
              "      <th>reviewTime</th>\n",
              "    </tr>\n",
              "  </thead>\n",
              "  <tbody>\n",
              "    <tr>\n",
              "      <th>0</th>\n",
              "      <td>A1VXOAVRGKGEAK</td>\n",
              "      <td>0439893577</td>\n",
              "      <td>Angie</td>\n",
              "      <td>[0, 0]</td>\n",
              "      <td>I like the item pricing. My granddaughter want...</td>\n",
              "      <td>5.0</td>\n",
              "      <td>Magnetic board</td>\n",
              "      <td>1390953600</td>\n",
              "      <td>2014-01-29</td>\n",
              "    </tr>\n",
              "    <tr>\n",
              "      <th>1</th>\n",
              "      <td>A8R62G708TSCM</td>\n",
              "      <td>0439893577</td>\n",
              "      <td>Candace</td>\n",
              "      <td>[1, 1]</td>\n",
              "      <td>Love the magnet easel... great for moving to d...</td>\n",
              "      <td>4.0</td>\n",
              "      <td>it works pretty good for moving to different a...</td>\n",
              "      <td>1395964800</td>\n",
              "      <td>2014-03-28</td>\n",
              "    </tr>\n",
              "    <tr>\n",
              "      <th>2</th>\n",
              "      <td>A21KH420DK0ICA</td>\n",
              "      <td>0439893577</td>\n",
              "      <td>capemaychristy</td>\n",
              "      <td>[1, 1]</td>\n",
              "      <td>Both sides are magnetic.  A real plus when you...</td>\n",
              "      <td>5.0</td>\n",
              "      <td>love this!</td>\n",
              "      <td>1359331200</td>\n",
              "      <td>2013-01-28</td>\n",
              "    </tr>\n",
              "    <tr>\n",
              "      <th>3</th>\n",
              "      <td>AR29QK6HPFYZ4</td>\n",
              "      <td>0439893577</td>\n",
              "      <td>dcrm</td>\n",
              "      <td>[0, 0]</td>\n",
              "      <td>Bought one a few years ago for my daughter and...</td>\n",
              "      <td>5.0</td>\n",
              "      <td>Daughters love it</td>\n",
              "      <td>1391817600</td>\n",
              "      <td>2014-02-08</td>\n",
              "    </tr>\n",
              "    <tr>\n",
              "      <th>4</th>\n",
              "      <td>ACCH8EOML6FN5</td>\n",
              "      <td>0439893577</td>\n",
              "      <td>DoyZ</td>\n",
              "      <td>[1, 1]</td>\n",
              "      <td>I have a stainless steel refrigerator therefor...</td>\n",
              "      <td>4.0</td>\n",
              "      <td>Great to have so he can play with his alphabet...</td>\n",
              "      <td>1399248000</td>\n",
              "      <td>2014-05-05</td>\n",
              "    </tr>\n",
              "  </tbody>\n",
              "</table>\n",
              "</div>"
            ],
            "text/plain": [
              "       reviewerID   ProductID    reviewerName helpful  \\\n",
              "0  A1VXOAVRGKGEAK  0439893577           Angie  [0, 0]   \n",
              "1   A8R62G708TSCM  0439893577         Candace  [1, 1]   \n",
              "2  A21KH420DK0ICA  0439893577  capemaychristy  [1, 1]   \n",
              "3   AR29QK6HPFYZ4  0439893577            dcrm  [0, 0]   \n",
              "4   ACCH8EOML6FN5  0439893577            DoyZ  [1, 1]   \n",
              "\n",
              "                                          reviewText  overall  \\\n",
              "0  I like the item pricing. My granddaughter want...      5.0   \n",
              "1  Love the magnet easel... great for moving to d...      4.0   \n",
              "2  Both sides are magnetic.  A real plus when you...      5.0   \n",
              "3  Bought one a few years ago for my daughter and...      5.0   \n",
              "4  I have a stainless steel refrigerator therefor...      4.0   \n",
              "\n",
              "                                             summary  unixReviewTime  \\\n",
              "0                                     Magnetic board      1390953600   \n",
              "1  it works pretty good for moving to different a...      1395964800   \n",
              "2                                         love this!      1359331200   \n",
              "3                                  Daughters love it      1391817600   \n",
              "4  Great to have so he can play with his alphabet...      1399248000   \n",
              "\n",
              "   reviewTime  \n",
              "0  2014-01-29  \n",
              "1  2014-03-28  \n",
              "2  2013-01-28  \n",
              "3  2014-02-08  \n",
              "4  2014-05-05  "
            ]
          },
          "execution_count": 142,
          "metadata": {},
          "output_type": "execute_result"
        }
      ],
      "source": [
        "df_temp_5TG.head()"
      ]
    },
    {
      "cell_type": "markdown",
      "metadata": {},
      "source": [
        "## Converting reviewtime to Datetime "
      ]
    },
    {
      "cell_type": "code",
      "execution_count": 140,
      "metadata": {},
      "outputs": [],
      "source": [
        "from datetime import datetime\n",
        "\n",
        "date_format = \"%m %d, %Y\"\n",
        "df_temp_5TG['reviewTime'] = pd.to_datetime(df_temp_5TG['reviewTime'], format=date_format).dt.date"
      ]
    },
    {
      "cell_type": "code",
      "execution_count": 143,
      "metadata": {},
      "outputs": [],
      "source": [
        "df_temp_5TG = df_temp_5TG.rename(columns={'reviewTime': 'Date'})"
      ]
    },
    {
      "cell_type": "code",
      "execution_count": 144,
      "metadata": {},
      "outputs": [
        {
          "data": {
            "text/html": [
              "<div>\n",
              "<style scoped>\n",
              "    .dataframe tbody tr th:only-of-type {\n",
              "        vertical-align: middle;\n",
              "    }\n",
              "\n",
              "    .dataframe tbody tr th {\n",
              "        vertical-align: top;\n",
              "    }\n",
              "\n",
              "    .dataframe thead th {\n",
              "        text-align: right;\n",
              "    }\n",
              "</style>\n",
              "<table border=\"1\" class=\"dataframe\">\n",
              "  <thead>\n",
              "    <tr style=\"text-align: right;\">\n",
              "      <th></th>\n",
              "      <th>reviewerID</th>\n",
              "      <th>ProductID</th>\n",
              "      <th>reviewerName</th>\n",
              "      <th>helpful</th>\n",
              "      <th>reviewText</th>\n",
              "      <th>overall</th>\n",
              "      <th>summary</th>\n",
              "      <th>unixReviewTime</th>\n",
              "      <th>Date</th>\n",
              "    </tr>\n",
              "  </thead>\n",
              "  <tbody>\n",
              "    <tr>\n",
              "      <th>0</th>\n",
              "      <td>A1VXOAVRGKGEAK</td>\n",
              "      <td>0439893577</td>\n",
              "      <td>Angie</td>\n",
              "      <td>[0, 0]</td>\n",
              "      <td>I like the item pricing. My granddaughter want...</td>\n",
              "      <td>5.0</td>\n",
              "      <td>Magnetic board</td>\n",
              "      <td>1390953600</td>\n",
              "      <td>2014-01-29</td>\n",
              "    </tr>\n",
              "    <tr>\n",
              "      <th>1</th>\n",
              "      <td>A8R62G708TSCM</td>\n",
              "      <td>0439893577</td>\n",
              "      <td>Candace</td>\n",
              "      <td>[1, 1]</td>\n",
              "      <td>Love the magnet easel... great for moving to d...</td>\n",
              "      <td>4.0</td>\n",
              "      <td>it works pretty good for moving to different a...</td>\n",
              "      <td>1395964800</td>\n",
              "      <td>2014-03-28</td>\n",
              "    </tr>\n",
              "  </tbody>\n",
              "</table>\n",
              "</div>"
            ],
            "text/plain": [
              "       reviewerID   ProductID reviewerName helpful  \\\n",
              "0  A1VXOAVRGKGEAK  0439893577        Angie  [0, 0]   \n",
              "1   A8R62G708TSCM  0439893577      Candace  [1, 1]   \n",
              "\n",
              "                                          reviewText  overall  \\\n",
              "0  I like the item pricing. My granddaughter want...      5.0   \n",
              "1  Love the magnet easel... great for moving to d...      4.0   \n",
              "\n",
              "                                             summary  unixReviewTime  \\\n",
              "0                                     Magnetic board      1390953600   \n",
              "1  it works pretty good for moving to different a...      1395964800   \n",
              "\n",
              "         Date  \n",
              "0  2014-01-29  \n",
              "1  2014-03-28  "
            ]
          },
          "execution_count": 144,
          "metadata": {},
          "output_type": "execute_result"
        }
      ],
      "source": [
        "df_temp_5TG.head(2)"
      ]
    },
    {
      "cell_type": "code",
      "execution_count": 145,
      "metadata": {},
      "outputs": [],
      "source": [
        "df_temp_5TG.drop('unixReviewTime',axis=1,inplace=True)"
      ]
    },
    {
      "cell_type": "code",
      "execution_count": 146,
      "metadata": {},
      "outputs": [],
      "source": [
        "df_temp_5TG['text']=df_temp_5TG['reviewText']+df_temp_5TG['summary']"
      ]
    },
    {
      "cell_type": "code",
      "execution_count": 147,
      "metadata": {},
      "outputs": [],
      "source": [
        "df_temp_5TG.drop(['reviewText','summary','helpful'],axis=1,inplace =True)"
      ]
    },
    {
      "cell_type": "code",
      "execution_count": 148,
      "metadata": {},
      "outputs": [
        {
          "data": {
            "text/html": [
              "<div>\n",
              "<style scoped>\n",
              "    .dataframe tbody tr th:only-of-type {\n",
              "        vertical-align: middle;\n",
              "    }\n",
              "\n",
              "    .dataframe tbody tr th {\n",
              "        vertical-align: top;\n",
              "    }\n",
              "\n",
              "    .dataframe thead th {\n",
              "        text-align: right;\n",
              "    }\n",
              "</style>\n",
              "<table border=\"1\" class=\"dataframe\">\n",
              "  <thead>\n",
              "    <tr style=\"text-align: right;\">\n",
              "      <th></th>\n",
              "      <th>reviewerID</th>\n",
              "      <th>ProductID</th>\n",
              "      <th>reviewerName</th>\n",
              "      <th>overall</th>\n",
              "      <th>Date</th>\n",
              "      <th>text</th>\n",
              "    </tr>\n",
              "  </thead>\n",
              "  <tbody>\n",
              "    <tr>\n",
              "      <th>0</th>\n",
              "      <td>A1VXOAVRGKGEAK</td>\n",
              "      <td>0439893577</td>\n",
              "      <td>Angie</td>\n",
              "      <td>5.0</td>\n",
              "      <td>2014-01-29</td>\n",
              "      <td>I like the item pricing. My granddaughter want...</td>\n",
              "    </tr>\n",
              "    <tr>\n",
              "      <th>1</th>\n",
              "      <td>A8R62G708TSCM</td>\n",
              "      <td>0439893577</td>\n",
              "      <td>Candace</td>\n",
              "      <td>4.0</td>\n",
              "      <td>2014-03-28</td>\n",
              "      <td>Love the magnet easel... great for moving to d...</td>\n",
              "    </tr>\n",
              "    <tr>\n",
              "      <th>2</th>\n",
              "      <td>A21KH420DK0ICA</td>\n",
              "      <td>0439893577</td>\n",
              "      <td>capemaychristy</td>\n",
              "      <td>5.0</td>\n",
              "      <td>2013-01-28</td>\n",
              "      <td>Both sides are magnetic.  A real plus when you...</td>\n",
              "    </tr>\n",
              "    <tr>\n",
              "      <th>3</th>\n",
              "      <td>AR29QK6HPFYZ4</td>\n",
              "      <td>0439893577</td>\n",
              "      <td>dcrm</td>\n",
              "      <td>5.0</td>\n",
              "      <td>2014-02-08</td>\n",
              "      <td>Bought one a few years ago for my daughter and...</td>\n",
              "    </tr>\n",
              "    <tr>\n",
              "      <th>4</th>\n",
              "      <td>ACCH8EOML6FN5</td>\n",
              "      <td>0439893577</td>\n",
              "      <td>DoyZ</td>\n",
              "      <td>4.0</td>\n",
              "      <td>2014-05-05</td>\n",
              "      <td>I have a stainless steel refrigerator therefor...</td>\n",
              "    </tr>\n",
              "  </tbody>\n",
              "</table>\n",
              "</div>"
            ],
            "text/plain": [
              "       reviewerID   ProductID    reviewerName  overall        Date  \\\n",
              "0  A1VXOAVRGKGEAK  0439893577           Angie      5.0  2014-01-29   \n",
              "1   A8R62G708TSCM  0439893577         Candace      4.0  2014-03-28   \n",
              "2  A21KH420DK0ICA  0439893577  capemaychristy      5.0  2013-01-28   \n",
              "3   AR29QK6HPFYZ4  0439893577            dcrm      5.0  2014-02-08   \n",
              "4   ACCH8EOML6FN5  0439893577            DoyZ      4.0  2014-05-05   \n",
              "\n",
              "                                                text  \n",
              "0  I like the item pricing. My granddaughter want...  \n",
              "1  Love the magnet easel... great for moving to d...  \n",
              "2  Both sides are magnetic.  A real plus when you...  \n",
              "3  Bought one a few years ago for my daughter and...  \n",
              "4  I have a stainless steel refrigerator therefor...  "
            ]
          },
          "execution_count": 148,
          "metadata": {},
          "output_type": "execute_result"
        }
      ],
      "source": [
        "df_temp_5TG.head()"
      ]
    },
    {
      "cell_type": "markdown",
      "metadata": {},
      "source": [
        "## Text preprocessing using SPACY"
      ]
    },
    {
      "cell_type": "code",
      "execution_count": 149,
      "metadata": {},
      "outputs": [],
      "source": [
        "### utlity function for pre-processing the text\n",
        "import spacy\n",
        "import re\n",
        "\n",
        "def remove_special_characters(text):\n",
        "    # Remove all non-letters and non-spaces except for hyphens and digits\n",
        "    text = re.sub(\"[^0-9A-Za-z\\- ]+\", \" \", text)\n",
        "    # Remove unnecessary symbols, punctuation, and signs\n",
        "    text = re.sub(r'[^\\w\\s]', '', text)\n",
        "    # Remove all numbers except those attached to a word\n",
        "    text = re.sub(\"(?<!\\w)\\d+\", \"\", text)\n",
        "    # Remove all hyphens except between two words\n",
        "    text = re.sub(\"-(?!\\w)|(?<!\\w)-\", \"\", text)\n",
        "    # Remove multiple spaces\n",
        "    text = \" \".join(text.split())\n",
        "    return text"
      ]
    },
    {
      "cell_type": "code",
      "execution_count": 150,
      "metadata": {},
      "outputs": [],
      "source": [
        "nlp = spacy.load(\"en_core_web_sm\")\n",
        "# code with spacy\n",
        "# def preprocess(text):\n",
        "#     if text is not np.nan:\n",
        "#         # Lowercase everything\n",
        "#         text = text.lower()\n",
        "#         # Lemmatize the text\n",
        "#         doc = nlp(text)\n",
        "#         filtered_tokens = []\n",
        "#         for token in doc:\n",
        "#             if token.is_stop:\n",
        "#                 continue\n",
        "#             filtered_tokens.append(token.lemma_)\n",
        "#         # Remove extra spaces\n",
        "#         return \" \".join(filtered_tokens).strip()"
      ]
    },
    {
      "cell_type": "markdown",
      "metadata": {},
      "source": [
        "## Text preprocessing using NLTK"
      ]
    },
    {
      "cell_type": "code",
      "execution_count": 151,
      "metadata": {},
      "outputs": [
        {
          "name": "stderr",
          "output_type": "stream",
          "text": [
            "[nltk_data] Downloading package punkt to\n",
            "[nltk_data]     C:\\Users\\Rishabh\\AppData\\Roaming\\nltk_data...\n",
            "[nltk_data]   Package punkt is already up-to-date!\n",
            "[nltk_data] Downloading package wordnet to\n",
            "[nltk_data]     C:\\Users\\Rishabh\\AppData\\Roaming\\nltk_data...\n",
            "[nltk_data]   Package wordnet is already up-to-date!\n",
            "[nltk_data] Downloading package stopwords to\n",
            "[nltk_data]     C:\\Users\\Rishabh\\AppData\\Roaming\\nltk_data...\n",
            "[nltk_data]   Package stopwords is already up-to-date!\n"
          ]
        }
      ],
      "source": [
        "import nltk\n",
        "from nltk.corpus import stopwords\n",
        "from nltk.stem import WordNetLemmatizer\n",
        "\n",
        "nltk.download('punkt')\n",
        "nltk.download('wordnet')\n",
        "nltk.download('stopwords')\n",
        "\n",
        "# Load the NLTK lemmatizer and stopwords\n",
        "lemmatizer = WordNetLemmatizer()\n",
        "stop_words = set(stopwords.words('english'))\n",
        "\n",
        "def preprocess(text):\n",
        "    if text is not np.nan:\n",
        "        # Lowercase everything\n",
        "        text = text.lower()\n",
        "        # Tokenize the text\n",
        "        tokens = nltk.word_tokenize(text)\n",
        "        filtered_tokens = []\n",
        "        for token in tokens:\n",
        "            if token in stop_words:\n",
        "                continue\n",
        "            # Lemmatize the token\n",
        "            lemmatized_token = lemmatizer.lemmatize(token)\n",
        "            filtered_tokens.append(lemmatized_token)\n",
        "        # Remove extra spaces\n",
        "        return \" \".join(filtered_tokens).strip()"
      ]
    },
    {
      "cell_type": "code",
      "execution_count": 152,
      "metadata": {},
      "outputs": [],
      "source": [
        "df_temp_5TG['text']=df_temp_5TG['text'].apply(remove_special_characters)"
      ]
    },
    {
      "cell_type": "code",
      "execution_count": 153,
      "metadata": {},
      "outputs": [],
      "source": [
        "df_temp_5TG['text']=df_temp_5TG['text'].apply(preprocess)"
      ]
    },
    {
      "cell_type": "code",
      "execution_count": 154,
      "metadata": {},
      "outputs": [
        {
          "data": {
            "text/html": [
              "<div>\n",
              "<style scoped>\n",
              "    .dataframe tbody tr th:only-of-type {\n",
              "        vertical-align: middle;\n",
              "    }\n",
              "\n",
              "    .dataframe tbody tr th {\n",
              "        vertical-align: top;\n",
              "    }\n",
              "\n",
              "    .dataframe thead th {\n",
              "        text-align: right;\n",
              "    }\n",
              "</style>\n",
              "<table border=\"1\" class=\"dataframe\">\n",
              "  <thead>\n",
              "    <tr style=\"text-align: right;\">\n",
              "      <th></th>\n",
              "      <th>reviewerID</th>\n",
              "      <th>ProductID</th>\n",
              "      <th>reviewerName</th>\n",
              "      <th>overall</th>\n",
              "      <th>Date</th>\n",
              "      <th>text</th>\n",
              "    </tr>\n",
              "  </thead>\n",
              "  <tbody>\n",
              "    <tr>\n",
              "      <th>0</th>\n",
              "      <td>A1VXOAVRGKGEAK</td>\n",
              "      <td>0439893577</td>\n",
              "      <td>Angie</td>\n",
              "      <td>5.0</td>\n",
              "      <td>2014-01-29</td>\n",
              "      <td>like item pricing granddaughter wanted mark wa...</td>\n",
              "    </tr>\n",
              "    <tr>\n",
              "      <th>1</th>\n",
              "      <td>A8R62G708TSCM</td>\n",
              "      <td>0439893577</td>\n",
              "      <td>Candace</td>\n",
              "      <td>4.0</td>\n",
              "      <td>2014-03-28</td>\n",
              "      <td>love magnet easel great moving different area ...</td>\n",
              "    </tr>\n",
              "    <tr>\n",
              "      <th>2</th>\n",
              "      <td>A21KH420DK0ICA</td>\n",
              "      <td>0439893577</td>\n",
              "      <td>capemaychristy</td>\n",
              "      <td>5.0</td>\n",
              "      <td>2013-01-28</td>\n",
              "      <td>side magnetic real plus entertaining one child...</td>\n",
              "    </tr>\n",
              "    <tr>\n",
              "      <th>3</th>\n",
              "      <td>AR29QK6HPFYZ4</td>\n",
              "      <td>0439893577</td>\n",
              "      <td>dcrm</td>\n",
              "      <td>5.0</td>\n",
              "      <td>2014-02-08</td>\n",
              "      <td>bought one year ago daughter love still using ...</td>\n",
              "    </tr>\n",
              "    <tr>\n",
              "      <th>4</th>\n",
              "      <td>ACCH8EOML6FN5</td>\n",
              "      <td>0439893577</td>\n",
              "      <td>DoyZ</td>\n",
              "      <td>4.0</td>\n",
              "      <td>2014-05-05</td>\n",
              "      <td>stainless steel refrigerator therefore much sp...</td>\n",
              "    </tr>\n",
              "  </tbody>\n",
              "</table>\n",
              "</div>"
            ],
            "text/plain": [
              "       reviewerID   ProductID    reviewerName  overall        Date  \\\n",
              "0  A1VXOAVRGKGEAK  0439893577           Angie      5.0  2014-01-29   \n",
              "1   A8R62G708TSCM  0439893577         Candace      4.0  2014-03-28   \n",
              "2  A21KH420DK0ICA  0439893577  capemaychristy      5.0  2013-01-28   \n",
              "3   AR29QK6HPFYZ4  0439893577            dcrm      5.0  2014-02-08   \n",
              "4   ACCH8EOML6FN5  0439893577            DoyZ      4.0  2014-05-05   \n",
              "\n",
              "                                                text  \n",
              "0  like item pricing granddaughter wanted mark wa...  \n",
              "1  love magnet easel great moving different area ...  \n",
              "2  side magnetic real plus entertaining one child...  \n",
              "3  bought one year ago daughter love still using ...  \n",
              "4  stainless steel refrigerator therefore much sp...  "
            ]
          },
          "execution_count": 154,
          "metadata": {},
          "output_type": "execute_result"
        }
      ],
      "source": [
        "df_temp_5TG.head()"
      ]
    },
    {
      "cell_type": "code",
      "execution_count": 155,
      "metadata": {},
      "outputs": [],
      "source": [
        "df_temp_5TG.to_csv('T&G_5TG_review.csv', index=False)"
      ]
    },
    {
      "cell_type": "code",
      "execution_count": 137,
      "metadata": {},
      "outputs": [
        {
          "data": {
            "text/html": [
              "<div>\n",
              "<style scoped>\n",
              "    .dataframe tbody tr th:only-of-type {\n",
              "        vertical-align: middle;\n",
              "    }\n",
              "\n",
              "    .dataframe tbody tr th {\n",
              "        vertical-align: top;\n",
              "    }\n",
              "\n",
              "    .dataframe thead th {\n",
              "        text-align: right;\n",
              "    }\n",
              "</style>\n",
              "<table border=\"1\" class=\"dataframe\">\n",
              "  <thead>\n",
              "    <tr style=\"text-align: right;\">\n",
              "      <th></th>\n",
              "      <th>ProductID</th>\n",
              "      <th>title</th>\n",
              "      <th>price</th>\n",
              "      <th>Category</th>\n",
              "      <th>Sub-category</th>\n",
              "      <th>also_buy</th>\n",
              "    </tr>\n",
              "  </thead>\n",
              "  <tbody>\n",
              "    <tr>\n",
              "      <th>0</th>\n",
              "      <td>0000191639</td>\n",
              "      <td>Dr. Suess 19163 Dr. Seuss Puzzle 3 Pack Bundle</td>\n",
              "      <td>37.12</td>\n",
              "      <td>Toys &amp; Games</td>\n",
              "      <td>Puzzles</td>\n",
              "      <td>0</td>\n",
              "    </tr>\n",
              "    <tr>\n",
              "      <th>1</th>\n",
              "      <td>0005069491</td>\n",
              "      <td>Nursery Rhymes Felt Book</td>\n",
              "      <td>15.66</td>\n",
              "      <td>Toys &amp; Games</td>\n",
              "      <td>Toys &amp; Games</td>\n",
              "      <td>0</td>\n",
              "    </tr>\n",
              "    <tr>\n",
              "      <th>2</th>\n",
              "      <td>0076561046</td>\n",
              "      <td>Fraction Decimal Percent Card Deck</td>\n",
              "      <td>3.99</td>\n",
              "      <td>Toys &amp; Games</td>\n",
              "      <td>Learning &amp; Education</td>\n",
              "      <td>0</td>\n",
              "    </tr>\n",
              "    <tr>\n",
              "      <th>3</th>\n",
              "      <td>0131358936</td>\n",
              "      <td>Toys&amp;Games</td>\n",
              "      <td>36.22</td>\n",
              "      <td>Toys &amp; Games</td>\n",
              "      <td>Learning &amp; Education</td>\n",
              "      <td>1</td>\n",
              "    </tr>\n",
              "    <tr>\n",
              "      <th>4</th>\n",
              "      <td>0133642984</td>\n",
              "      <td>Algebra 2 California Teacher Center</td>\n",
              "      <td>731.93</td>\n",
              "      <td>Toys &amp; Games</td>\n",
              "      <td>Learning &amp; Education</td>\n",
              "      <td>0</td>\n",
              "    </tr>\n",
              "  </tbody>\n",
              "</table>\n",
              "</div>"
            ],
            "text/plain": [
              "    ProductID                                           title   price  \\\n",
              "0  0000191639  Dr. Suess 19163 Dr. Seuss Puzzle 3 Pack Bundle   37.12   \n",
              "1  0005069491                        Nursery Rhymes Felt Book   15.66   \n",
              "2  0076561046              Fraction Decimal Percent Card Deck    3.99   \n",
              "3  0131358936                                      Toys&Games   36.22   \n",
              "4  0133642984             Algebra 2 California Teacher Center  731.93   \n",
              "\n",
              "       Category           Sub-category  also_buy  \n",
              "0  Toys & Games                Puzzles         0  \n",
              "1  Toys & Games           Toys & Games         0  \n",
              "2  Toys & Games   Learning & Education         0  \n",
              "3  Toys & Games   Learning & Education         1  \n",
              "4  Toys & Games   Learning & Education         0  "
            ]
          },
          "execution_count": 137,
          "metadata": {},
          "output_type": "execute_result"
        }
      ],
      "source": [
        "df_sort_MTG.head()"
      ]
    },
    {
      "cell_type": "code",
      "execution_count": 143,
      "metadata": {},
      "outputs": [
        {
          "data": {
            "text/plain": [
              "11924"
            ]
          },
          "execution_count": 143,
          "metadata": {},
          "output_type": "execute_result"
        }
      ],
      "source": [
        "len(df_temp_5TG['ProductID'].value_counts())"
      ]
    },
    {
      "cell_type": "code",
      "execution_count": 145,
      "metadata": {},
      "outputs": [
        {
          "data": {
            "text/plain": [
              "336072"
            ]
          },
          "execution_count": 145,
          "metadata": {},
          "output_type": "execute_result"
        }
      ],
      "source": [
        "len(df_sort_MTG['ProductID'].value_counts())"
      ]
    },
    {
      "cell_type": "markdown",
      "metadata": {},
      "source": [
        "## Merging both data "
      ]
    },
    {
      "cell_type": "code",
      "execution_count": 152,
      "metadata": {},
      "outputs": [],
      "source": [
        "TG_df = df_sort_MTG.merge(df_temp_5TG, on='ProductID', how='inner')"
      ]
    },
    {
      "cell_type": "code",
      "execution_count": 153,
      "metadata": {},
      "outputs": [
        {
          "data": {
            "text/plain": [
              "(167597, 11)"
            ]
          },
          "execution_count": 153,
          "metadata": {},
          "output_type": "execute_result"
        }
      ],
      "source": [
        "TG_df.shape"
      ]
    },
    {
      "cell_type": "code",
      "execution_count": 154,
      "metadata": {},
      "outputs": [
        {
          "data": {
            "text/plain": [
              "ProductID       0\n",
              "title           0\n",
              "price           0\n",
              "Category        0\n",
              "Sub-category    0\n",
              "also_buy        0\n",
              "reviewerID      0\n",
              "reviewerName    0\n",
              "overall         0\n",
              "Date            0\n",
              "text            0\n",
              "dtype: int64"
            ]
          },
          "execution_count": 154,
          "metadata": {},
          "output_type": "execute_result"
        }
      ],
      "source": [
        "TG_df.isnull().sum()"
      ]
    },
    {
      "cell_type": "code",
      "execution_count": 155,
      "metadata": {},
      "outputs": [
        {
          "data": {
            "text/plain": [
              "11924"
            ]
          },
          "execution_count": 155,
          "metadata": {},
          "output_type": "execute_result"
        }
      ],
      "source": [
        "len(TG_df['ProductID'].value_counts())"
      ]
    },
    {
      "cell_type": "markdown",
      "metadata": {},
      "source": [
        "# Uploading File as CSV format"
      ]
    },
    {
      "cell_type": "code",
      "execution_count": 62,
      "metadata": {},
      "outputs": [],
      "source": [
        "TG_df.to_csv('T&G_Data.csv', index=False)"
      ]
    },
    {
      "cell_type": "markdown",
      "metadata": {},
      "source": [
        "# ---------------------------------------"
      ]
    }
  ],
  "metadata": {
    "accelerator": "GPU",
    "colab": {
      "gpuType": "T4",
      "provenance": []
    },
    "kernelspec": {
      "display_name": "Python 3",
      "name": "python3"
    },
    "language_info": {
      "codemirror_mode": {
        "name": "ipython",
        "version": 3
      },
      "file_extension": ".py",
      "mimetype": "text/x-python",
      "name": "python",
      "nbconvert_exporter": "python",
      "pygments_lexer": "ipython3",
      "version": "3.10.9"
    }
  },
  "nbformat": 4,
  "nbformat_minor": 0
}
