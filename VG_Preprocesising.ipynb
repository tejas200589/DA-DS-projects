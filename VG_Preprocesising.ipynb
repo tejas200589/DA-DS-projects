{
  "cells": [
    {
      "cell_type": "markdown",
      "metadata": {
        "id": "dyiYgRNsTUYB"
      },
      "source": [
        "# <CENTER>  Read Data"
      ]
    },
    {
      "cell_type": "code",
      "execution_count": 1,
      "metadata": {
        "id": "kpCGnHZ3UZVZ"
      },
      "outputs": [],
      "source": [
        "import os\n",
        "import json\n",
        "import gzip\n",
        "import pandas as pd\n",
        "import numpy as np"
      ]
    },
    {
      "cell_type": "code",
      "execution_count": 2,
      "metadata": {
        "id": "Yx34MqIgUbad"
      },
      "outputs": [],
      "source": [
        "def parse(path):\n",
        "  g = gzip.open(path, 'rb')\n",
        "  for l in g:\n",
        "    yield eval(l)\n",
        "\n",
        "def getDF(path):\n",
        "  i = 0\n",
        "  df = {}\n",
        "  for d in parse(path):\n",
        "    df[i] = d\n",
        "    i += 1\n",
        "  return pd.DataFrame.from_dict(df, orient='index')"
      ]
    },
    {
      "cell_type": "markdown",
      "metadata": {
        "id": "guxvjGM3YUUr"
      },
      "source": [
        "# <CENTER> Read file"
      ]
    },
    {
      "cell_type": "code",
      "execution_count": 3,
      "metadata": {
        "id": "kc7c-u2gUcbT"
      },
      "outputs": [],
      "source": [
        "df_M_VG = getDF(r\"E:\\NIIT\\Project\\DATA_2014\\VG\\meta_Video_Games.json.gz\")"
      ]
    },
    {
      "cell_type": "code",
      "execution_count": 4,
      "metadata": {
        "id": "VkPUbzAIUgJ1"
      },
      "outputs": [],
      "source": [
        "df_5_VG = getDF(r\"E:\\NIIT\\Project\\DATA_2014\\VG\\reviews_Video_Games_5.json.gz\")"
      ]
    },
    {
      "cell_type": "markdown",
      "metadata": {
        "id": "duxHiMVUjIMv"
      },
      "source": [
        "# <CENTER> Data preprocessing"
      ]
    },
    {
      "cell_type": "code",
      "execution_count": 5,
      "metadata": {},
      "outputs": [
        {
          "data": {
            "text/plain": [
              "asin               0\n",
              "description     3890\n",
              "price           7048\n",
              "imUrl            220\n",
              "related         5864\n",
              "salesRank       1937\n",
              "categories         0\n",
              "title          48688\n",
              "brand          50186\n",
              "dtype: int64"
            ]
          },
          "execution_count": 5,
          "metadata": {},
          "output_type": "execute_result"
        }
      ],
      "source": [
        "df_M_VG.isnull().sum()"
      ]
    },
    {
      "cell_type": "code",
      "execution_count": 6,
      "metadata": {},
      "outputs": [
        {
          "data": {
            "text/plain": [
              "(50953, 9)"
            ]
          },
          "execution_count": 6,
          "metadata": {},
          "output_type": "execute_result"
        }
      ],
      "source": [
        "df_M_VG.shape"
      ]
    },
    {
      "cell_type": "markdown",
      "metadata": {},
      "source": [
        "## Exporting various variables to understand"
      ]
    },
    {
      "cell_type": "code",
      "execution_count": 7,
      "metadata": {},
      "outputs": [],
      "source": [
        "file_name = \"description_m_VG14.txt\"\n",
        "descriptions = df_M_VG['description']\n",
        "with open(file_name, 'w', encoding='utf-8') as f:\n",
        "    for description in descriptions:\n",
        "        f.write(str(description) + '\\n')"
      ]
    },
    {
      "cell_type": "code",
      "execution_count": 43,
      "metadata": {},
      "outputs": [],
      "source": [
        "file_name = \"salesRank_m_TG14.txt\"\n",
        "salesRank = df_M_VG['salesRank']\n",
        "with open(file_name, 'w', encoding='utf-8') as f:\n",
        "    for salesRank in salesRank:\n",
        "        f.write(str(salesRank) + '\\n')"
      ]
    },
    {
      "cell_type": "code",
      "execution_count": 44,
      "metadata": {},
      "outputs": [],
      "source": [
        "file_name = \"title.txt\"\n",
        "title = df_M_VG['title']\n",
        "with open(file_name, 'w', encoding='utf-8') as f:\n",
        "    for title in title:\n",
        "        f.write(str(title) + '\\n')"
      ]
    },
    {
      "cell_type": "markdown",
      "metadata": {},
      "source": [
        "## Renaming the 'asin' and deoping the unnecessary data "
      ]
    },
    {
      "cell_type": "code",
      "execution_count": 7,
      "metadata": {},
      "outputs": [],
      "source": [
        "df_temp_MVG=df_M_VG.copy()"
      ]
    },
    {
      "cell_type": "code",
      "execution_count": 8,
      "metadata": {},
      "outputs": [],
      "source": [
        "df_temp_MVG = df_temp_MVG.rename(columns={'asin': 'ProductID'})"
      ]
    },
    {
      "cell_type": "code",
      "execution_count": 9,
      "metadata": {},
      "outputs": [],
      "source": [
        "df_temp_MVG=df_temp_MVG.drop(['imUrl','brand','salesRank','description','title'],axis=1)"
      ]
    },
    {
      "cell_type": "markdown",
      "metadata": {},
      "source": [
        "## Remove Characters \"{},(),[]\""
      ]
    },
    {
      "cell_type": "code",
      "execution_count": 10,
      "metadata": {},
      "outputs": [],
      "source": [
        "import re\n",
        "def removechar(text):\n",
        "    special_chars_pattern = r'[\\{\\}\\(\\)\\[\\]]'\n",
        "    cleaned_text = re.sub(special_chars_pattern, '', text)\n",
        "    return cleaned_text"
      ]
    },
    {
      "cell_type": "code",
      "execution_count": 11,
      "metadata": {},
      "outputs": [],
      "source": [
        "C_list=['categories','related']\n",
        "df_temp_MVG[C_list] = df_temp_MVG[C_list].astype(str)\n",
        "for col in C_list:\n",
        "    df_temp_MVG[col] = df_temp_MVG[col].apply(removechar)"
      ]
    },
    {
      "cell_type": "code",
      "execution_count": 12,
      "metadata": {},
      "outputs": [
        {
          "data": {
            "text/html": [
              "<div>\n",
              "<style scoped>\n",
              "    .dataframe tbody tr th:only-of-type {\n",
              "        vertical-align: middle;\n",
              "    }\n",
              "\n",
              "    .dataframe tbody tr th {\n",
              "        vertical-align: top;\n",
              "    }\n",
              "\n",
              "    .dataframe thead th {\n",
              "        text-align: right;\n",
              "    }\n",
              "</style>\n",
              "<table border=\"1\" class=\"dataframe\">\n",
              "  <thead>\n",
              "    <tr style=\"text-align: right;\">\n",
              "      <th></th>\n",
              "      <th>ProductID</th>\n",
              "      <th>price</th>\n",
              "      <th>related</th>\n",
              "      <th>categories</th>\n",
              "    </tr>\n",
              "  </thead>\n",
              "  <tbody>\n",
              "    <tr>\n",
              "      <th>0</th>\n",
              "      <td>0078764343</td>\n",
              "      <td>37.98</td>\n",
              "      <td>'also_bought': 'B000TI836G', 'B003Q53VZC', 'B0...</td>\n",
              "      <td>'Video Games', 'Xbox 360', 'Games'</td>\n",
              "    </tr>\n",
              "    <tr>\n",
              "      <th>1</th>\n",
              "      <td>043933702X</td>\n",
              "      <td>23.50</td>\n",
              "      <td>'also_viewed': 'B000067NP1', '0439573947', 'B0...</td>\n",
              "      <td>'Video Games', 'PC', 'Games'</td>\n",
              "    </tr>\n",
              "    <tr>\n",
              "      <th>2</th>\n",
              "      <td>0439339987</td>\n",
              "      <td>8.95</td>\n",
              "      <td>'also_bought': 'B000314VVU', 'B000PXUOTE', 'B0...</td>\n",
              "      <td>'Video Games', 'PC', 'Games'</td>\n",
              "    </tr>\n",
              "    <tr>\n",
              "      <th>3</th>\n",
              "      <td>0439342260</td>\n",
              "      <td>NaN</td>\n",
              "      <td>'also_viewed': '043934302X'</td>\n",
              "      <td>'Video Games', 'PC', 'Games'</td>\n",
              "    </tr>\n",
              "    <tr>\n",
              "      <th>4</th>\n",
              "      <td>0439339960</td>\n",
              "      <td>NaN</td>\n",
              "      <td>'also_viewed': 'B00028D7TG'</td>\n",
              "      <td>'Video Games', 'PC', 'Games'</td>\n",
              "    </tr>\n",
              "  </tbody>\n",
              "</table>\n",
              "</div>"
            ],
            "text/plain": [
              "    ProductID  price                                            related  \\\n",
              "0  0078764343  37.98  'also_bought': 'B000TI836G', 'B003Q53VZC', 'B0...   \n",
              "1  043933702X  23.50  'also_viewed': 'B000067NP1', '0439573947', 'B0...   \n",
              "2  0439339987   8.95  'also_bought': 'B000314VVU', 'B000PXUOTE', 'B0...   \n",
              "3  0439342260    NaN                        'also_viewed': '043934302X'   \n",
              "4  0439339960    NaN                        'also_viewed': 'B00028D7TG'   \n",
              "\n",
              "                           categories  \n",
              "0  'Video Games', 'Xbox 360', 'Games'  \n",
              "1        'Video Games', 'PC', 'Games'  \n",
              "2        'Video Games', 'PC', 'Games'  \n",
              "3        'Video Games', 'PC', 'Games'  \n",
              "4        'Video Games', 'PC', 'Games'  "
            ]
          },
          "execution_count": 12,
          "metadata": {},
          "output_type": "execute_result"
        }
      ],
      "source": [
        "df_temp_MVG.head()"
      ]
    },
    {
      "cell_type": "code",
      "execution_count": 25,
      "metadata": {},
      "outputs": [],
      "source": [
        "file_name = \"categories_mvg14.txt\"\n",
        "categories = df_temp_MVG['categories']\n",
        "with open(file_name, 'w', encoding='utf-8') as f:\n",
        "    for categories in categories:\n",
        "        f.write(str(categories) + '\\n')"
      ]
    },
    {
      "cell_type": "markdown",
      "metadata": {},
      "source": [
        "## Creating sub-Category from category"
      ]
    },
    {
      "cell_type": "code",
      "execution_count": 13,
      "metadata": {},
      "outputs": [],
      "source": [
        "Temp_var_mvg=df_temp_MVG[\"categories\"].str.split(\",\", n = 1, expand = True)"
      ]
    },
    {
      "cell_type": "code",
      "execution_count": 14,
      "metadata": {},
      "outputs": [],
      "source": [
        "df_temp_MVG['Category']=Temp_var_mvg[0]"
      ]
    },
    {
      "cell_type": "code",
      "execution_count": 15,
      "metadata": {},
      "outputs": [],
      "source": [
        "df_temp_MVG['temp_cat']=Temp_var_mvg[1]"
      ]
    },
    {
      "cell_type": "code",
      "execution_count": 16,
      "metadata": {},
      "outputs": [],
      "source": [
        "Temp_var_mtg2=df_temp_MVG[\"temp_cat\"].str.split(\",\", n = 1, expand = True)"
      ]
    },
    {
      "cell_type": "code",
      "execution_count": 17,
      "metadata": {},
      "outputs": [],
      "source": [
        "df_temp_MVG['Sub-category']=Temp_var_mtg2[0]\n",
        "df_temp_MVG=df_temp_MVG.drop(['temp_cat','categories'],axis=1)"
      ]
    },
    {
      "cell_type": "code",
      "execution_count": 18,
      "metadata": {},
      "outputs": [
        {
          "data": {
            "text/html": [
              "<div>\n",
              "<style scoped>\n",
              "    .dataframe tbody tr th:only-of-type {\n",
              "        vertical-align: middle;\n",
              "    }\n",
              "\n",
              "    .dataframe tbody tr th {\n",
              "        vertical-align: top;\n",
              "    }\n",
              "\n",
              "    .dataframe thead th {\n",
              "        text-align: right;\n",
              "    }\n",
              "</style>\n",
              "<table border=\"1\" class=\"dataframe\">\n",
              "  <thead>\n",
              "    <tr style=\"text-align: right;\">\n",
              "      <th></th>\n",
              "      <th>ProductID</th>\n",
              "      <th>price</th>\n",
              "      <th>related</th>\n",
              "      <th>Category</th>\n",
              "      <th>Sub-category</th>\n",
              "    </tr>\n",
              "  </thead>\n",
              "  <tbody>\n",
              "    <tr>\n",
              "      <th>0</th>\n",
              "      <td>0078764343</td>\n",
              "      <td>37.98</td>\n",
              "      <td>'also_bought': 'B000TI836G', 'B003Q53VZC', 'B0...</td>\n",
              "      <td>'Video Games'</td>\n",
              "      <td>'Xbox 360'</td>\n",
              "    </tr>\n",
              "    <tr>\n",
              "      <th>1</th>\n",
              "      <td>043933702X</td>\n",
              "      <td>23.50</td>\n",
              "      <td>'also_viewed': 'B000067NP1', '0439573947', 'B0...</td>\n",
              "      <td>'Video Games'</td>\n",
              "      <td>'PC'</td>\n",
              "    </tr>\n",
              "    <tr>\n",
              "      <th>2</th>\n",
              "      <td>0439339987</td>\n",
              "      <td>8.95</td>\n",
              "      <td>'also_bought': 'B000314VVU', 'B000PXUOTE', 'B0...</td>\n",
              "      <td>'Video Games'</td>\n",
              "      <td>'PC'</td>\n",
              "    </tr>\n",
              "    <tr>\n",
              "      <th>3</th>\n",
              "      <td>0439342260</td>\n",
              "      <td>NaN</td>\n",
              "      <td>'also_viewed': '043934302X'</td>\n",
              "      <td>'Video Games'</td>\n",
              "      <td>'PC'</td>\n",
              "    </tr>\n",
              "    <tr>\n",
              "      <th>4</th>\n",
              "      <td>0439339960</td>\n",
              "      <td>NaN</td>\n",
              "      <td>'also_viewed': 'B00028D7TG'</td>\n",
              "      <td>'Video Games'</td>\n",
              "      <td>'PC'</td>\n",
              "    </tr>\n",
              "  </tbody>\n",
              "</table>\n",
              "</div>"
            ],
            "text/plain": [
              "    ProductID  price                                            related  \\\n",
              "0  0078764343  37.98  'also_bought': 'B000TI836G', 'B003Q53VZC', 'B0...   \n",
              "1  043933702X  23.50  'also_viewed': 'B000067NP1', '0439573947', 'B0...   \n",
              "2  0439339987   8.95  'also_bought': 'B000314VVU', 'B000PXUOTE', 'B0...   \n",
              "3  0439342260    NaN                        'also_viewed': '043934302X'   \n",
              "4  0439339960    NaN                        'also_viewed': 'B00028D7TG'   \n",
              "\n",
              "        Category Sub-category  \n",
              "0  'Video Games'   'Xbox 360'  \n",
              "1  'Video Games'         'PC'  \n",
              "2  'Video Games'         'PC'  \n",
              "3  'Video Games'         'PC'  \n",
              "4  'Video Games'         'PC'  "
            ]
          },
          "execution_count": 18,
          "metadata": {},
          "output_type": "execute_result"
        }
      ],
      "source": [
        "df_temp_MVG.head(5)"
      ]
    },
    {
      "cell_type": "code",
      "execution_count": 19,
      "metadata": {},
      "outputs": [],
      "source": [
        "df_temp_MVG['Sub-category'].fillna(\"'Video Games'\",inplace=True)"
      ]
    },
    {
      "cell_type": "code",
      "execution_count": 20,
      "metadata": {},
      "outputs": [
        {
          "data": {
            "text/plain": [
              "ProductID          0\n",
              "price           7048\n",
              "related            0\n",
              "Category           0\n",
              "Sub-category       0\n",
              "dtype: int64"
            ]
          },
          "execution_count": 20,
          "metadata": {},
          "output_type": "execute_result"
        }
      ],
      "source": [
        "df_temp_MVG.isnull().sum()"
      ]
    },
    {
      "cell_type": "code",
      "execution_count": 21,
      "metadata": {},
      "outputs": [],
      "source": [
        "Temp_var_mtg3=df_temp_MVG[\"related\"].str.split(\":\", n = 1, expand = True)"
      ]
    },
    {
      "cell_type": "code",
      "execution_count": 22,
      "metadata": {},
      "outputs": [],
      "source": [
        "df_temp_MVG['also_buy']=Temp_var_mtg3[0]\n",
        "df_temp_MVG['other']=Temp_var_mtg3[1]"
      ]
    },
    {
      "cell_type": "markdown",
      "metadata": {},
      "source": [
        "## Converting \"also_buy\" column to binary as \"yes/no\""
      ]
    },
    {
      "cell_type": "code",
      "execution_count": 23,
      "metadata": {},
      "outputs": [
        {
          "name": "stderr",
          "output_type": "stream",
          "text": [
            "C:\\Users\\Rishabh\\AppData\\Local\\Temp\\ipykernel_23228\\2652212497.py:3: SettingWithCopyWarning: \n",
            "A value is trying to be set on a copy of a slice from a DataFrame\n",
            "\n",
            "See the caveats in the documentation: https://pandas.pydata.org/pandas-docs/stable/user_guide/indexing.html#returning-a-view-versus-a-copy\n",
            "  df_temp_MVG['also_buy'][i] = '1'\n",
            "C:\\Users\\Rishabh\\AppData\\Local\\Temp\\ipykernel_23228\\2652212497.py:5: SettingWithCopyWarning: \n",
            "A value is trying to be set on a copy of a slice from a DataFrame\n",
            "\n",
            "See the caveats in the documentation: https://pandas.pydata.org/pandas-docs/stable/user_guide/indexing.html#returning-a-view-versus-a-copy\n",
            "  df_temp_MVG['also_buy'][i] = '0'\n"
          ]
        }
      ],
      "source": [
        "for i in range(len(df_temp_MVG['also_buy'])):\n",
        "    if df_temp_MVG['also_buy'][i] == \"'also_bought'\":\n",
        "        df_temp_MVG['also_buy'][i] = '1'\n",
        "    else:\n",
        "        df_temp_MVG['also_buy'][i] = '0'"
      ]
    },
    {
      "cell_type": "code",
      "execution_count": 24,
      "metadata": {},
      "outputs": [],
      "source": [
        "df_temp_MVG=df_temp_MVG.drop(['related','other'],axis=1)"
      ]
    },
    {
      "cell_type": "code",
      "execution_count": 25,
      "metadata": {},
      "outputs": [],
      "source": [
        "def remove_quotes(text):\n",
        "    return text.replace(\"'\", '')\n",
        "\n",
        "df_temp_MVG['Sub-category'] = df_temp_MVG['Sub-category'].apply(remove_quotes)\n",
        "df_temp_MVG['Category'] = df_temp_MVG['Category'].apply(remove_quotes)"
      ]
    },
    {
      "cell_type": "code",
      "execution_count": 26,
      "metadata": {},
      "outputs": [],
      "source": [
        "df_temp_MVG['also_buy']=df_temp_MVG['also_buy'].astype(int)"
      ]
    },
    {
      "cell_type": "code",
      "execution_count": 27,
      "metadata": {},
      "outputs": [
        {
          "data": {
            "text/plain": [
              "ProductID        object\n",
              "price           float64\n",
              "Category         object\n",
              "Sub-category     object\n",
              "also_buy          int32\n",
              "dtype: object"
            ]
          },
          "execution_count": 27,
          "metadata": {},
          "output_type": "execute_result"
        }
      ],
      "source": [
        "df_temp_MVG.dtypes"
      ]
    },
    {
      "cell_type": "code",
      "execution_count": 28,
      "metadata": {},
      "outputs": [],
      "source": [
        "def remove_quotes(text):\n",
        "    return text.replace('\"', '')\n",
        "\n",
        "df_temp_MVG['Sub-category'] = df_temp_MVG['Sub-category'].apply(remove_quotes)\n",
        "df_temp_MVG['Category'] = df_temp_MVG['Category'].apply(remove_quotes)"
      ]
    },
    {
      "cell_type": "code",
      "execution_count": 29,
      "metadata": {},
      "outputs": [],
      "source": [
        "df_sort_MVG=df_temp_MVG.copy()"
      ]
    },
    {
      "cell_type": "code",
      "execution_count": 30,
      "metadata": {},
      "outputs": [
        {
          "data": {
            "text/html": [
              "<div>\n",
              "<style scoped>\n",
              "    .dataframe tbody tr th:only-of-type {\n",
              "        vertical-align: middle;\n",
              "    }\n",
              "\n",
              "    .dataframe tbody tr th {\n",
              "        vertical-align: top;\n",
              "    }\n",
              "\n",
              "    .dataframe thead th {\n",
              "        text-align: right;\n",
              "    }\n",
              "</style>\n",
              "<table border=\"1\" class=\"dataframe\">\n",
              "  <thead>\n",
              "    <tr style=\"text-align: right;\">\n",
              "      <th></th>\n",
              "      <th>ProductID</th>\n",
              "      <th>price</th>\n",
              "      <th>Category</th>\n",
              "      <th>Sub-category</th>\n",
              "      <th>also_buy</th>\n",
              "    </tr>\n",
              "  </thead>\n",
              "  <tbody>\n",
              "    <tr>\n",
              "      <th>0</th>\n",
              "      <td>0078764343</td>\n",
              "      <td>37.98</td>\n",
              "      <td>Video Games</td>\n",
              "      <td>Xbox 360</td>\n",
              "      <td>1</td>\n",
              "    </tr>\n",
              "    <tr>\n",
              "      <th>1</th>\n",
              "      <td>043933702X</td>\n",
              "      <td>23.50</td>\n",
              "      <td>Video Games</td>\n",
              "      <td>PC</td>\n",
              "      <td>0</td>\n",
              "    </tr>\n",
              "    <tr>\n",
              "      <th>2</th>\n",
              "      <td>0439339987</td>\n",
              "      <td>8.95</td>\n",
              "      <td>Video Games</td>\n",
              "      <td>PC</td>\n",
              "      <td>1</td>\n",
              "    </tr>\n",
              "    <tr>\n",
              "      <th>3</th>\n",
              "      <td>0439342260</td>\n",
              "      <td>NaN</td>\n",
              "      <td>Video Games</td>\n",
              "      <td>PC</td>\n",
              "      <td>0</td>\n",
              "    </tr>\n",
              "    <tr>\n",
              "      <th>4</th>\n",
              "      <td>0439339960</td>\n",
              "      <td>NaN</td>\n",
              "      <td>Video Games</td>\n",
              "      <td>PC</td>\n",
              "      <td>0</td>\n",
              "    </tr>\n",
              "  </tbody>\n",
              "</table>\n",
              "</div>"
            ],
            "text/plain": [
              "    ProductID  price     Category Sub-category  also_buy\n",
              "0  0078764343  37.98  Video Games     Xbox 360         1\n",
              "1  043933702X  23.50  Video Games           PC         0\n",
              "2  0439339987   8.95  Video Games           PC         1\n",
              "3  0439342260    NaN  Video Games           PC         0\n",
              "4  0439339960    NaN  Video Games           PC         0"
            ]
          },
          "execution_count": 30,
          "metadata": {},
          "output_type": "execute_result"
        }
      ],
      "source": [
        "df_sort_MVG.head()"
      ]
    },
    {
      "cell_type": "code",
      "execution_count": 31,
      "metadata": {},
      "outputs": [
        {
          "data": {
            "text/plain": [
              "82"
            ]
          },
          "execution_count": 31,
          "metadata": {},
          "output_type": "execute_result"
        }
      ],
      "source": [
        "len(df_sort_MVG['Sub-category'].unique())"
      ]
    },
    {
      "cell_type": "code",
      "execution_count": 32,
      "metadata": {},
      "outputs": [
        {
          "data": {
            "text/html": [
              "<style>#sk-container-id-1 {color: black;background-color: white;}#sk-container-id-1 pre{padding: 0;}#sk-container-id-1 div.sk-toggleable {background-color: white;}#sk-container-id-1 label.sk-toggleable__label {cursor: pointer;display: block;width: 100%;margin-bottom: 0;padding: 0.3em;box-sizing: border-box;text-align: center;}#sk-container-id-1 label.sk-toggleable__label-arrow:before {content: \"▸\";float: left;margin-right: 0.25em;color: #696969;}#sk-container-id-1 label.sk-toggleable__label-arrow:hover:before {color: black;}#sk-container-id-1 div.sk-estimator:hover label.sk-toggleable__label-arrow:before {color: black;}#sk-container-id-1 div.sk-toggleable__content {max-height: 0;max-width: 0;overflow: hidden;text-align: left;background-color: #f0f8ff;}#sk-container-id-1 div.sk-toggleable__content pre {margin: 0.2em;color: black;border-radius: 0.25em;background-color: #f0f8ff;}#sk-container-id-1 input.sk-toggleable__control:checked~div.sk-toggleable__content {max-height: 200px;max-width: 100%;overflow: auto;}#sk-container-id-1 input.sk-toggleable__control:checked~label.sk-toggleable__label-arrow:before {content: \"▾\";}#sk-container-id-1 div.sk-estimator input.sk-toggleable__control:checked~label.sk-toggleable__label {background-color: #d4ebff;}#sk-container-id-1 div.sk-label input.sk-toggleable__control:checked~label.sk-toggleable__label {background-color: #d4ebff;}#sk-container-id-1 input.sk-hidden--visually {border: 0;clip: rect(1px 1px 1px 1px);clip: rect(1px, 1px, 1px, 1px);height: 1px;margin: -1px;overflow: hidden;padding: 0;position: absolute;width: 1px;}#sk-container-id-1 div.sk-estimator {font-family: monospace;background-color: #f0f8ff;border: 1px dotted black;border-radius: 0.25em;box-sizing: border-box;margin-bottom: 0.5em;}#sk-container-id-1 div.sk-estimator:hover {background-color: #d4ebff;}#sk-container-id-1 div.sk-parallel-item::after {content: \"\";width: 100%;border-bottom: 1px solid gray;flex-grow: 1;}#sk-container-id-1 div.sk-label:hover label.sk-toggleable__label {background-color: #d4ebff;}#sk-container-id-1 div.sk-serial::before {content: \"\";position: absolute;border-left: 1px solid gray;box-sizing: border-box;top: 0;bottom: 0;left: 50%;z-index: 0;}#sk-container-id-1 div.sk-serial {display: flex;flex-direction: column;align-items: center;background-color: white;padding-right: 0.2em;padding-left: 0.2em;position: relative;}#sk-container-id-1 div.sk-item {position: relative;z-index: 1;}#sk-container-id-1 div.sk-parallel {display: flex;align-items: stretch;justify-content: center;background-color: white;position: relative;}#sk-container-id-1 div.sk-item::before, #sk-container-id-1 div.sk-parallel-item::before {content: \"\";position: absolute;border-left: 1px solid gray;box-sizing: border-box;top: 0;bottom: 0;left: 50%;z-index: -1;}#sk-container-id-1 div.sk-parallel-item {display: flex;flex-direction: column;z-index: 1;position: relative;background-color: white;}#sk-container-id-1 div.sk-parallel-item:first-child::after {align-self: flex-end;width: 50%;}#sk-container-id-1 div.sk-parallel-item:last-child::after {align-self: flex-start;width: 50%;}#sk-container-id-1 div.sk-parallel-item:only-child::after {width: 0;}#sk-container-id-1 div.sk-dashed-wrapped {border: 1px dashed gray;margin: 0 0.4em 0.5em 0.4em;box-sizing: border-box;padding-bottom: 0.4em;background-color: white;}#sk-container-id-1 div.sk-label label {font-family: monospace;font-weight: bold;display: inline-block;line-height: 1.2em;}#sk-container-id-1 div.sk-label-container {text-align: center;}#sk-container-id-1 div.sk-container {/* jupyter's `normalize.less` sets `[hidden] { display: none; }` but bootstrap.min.css set `[hidden] { display: none !important; }` so we also need the `!important` here to be able to override the default hidden behavior on the sphinx rendered scikit-learn.org. See: https://github.com/scikit-learn/scikit-learn/issues/21755 */display: inline-block !important;position: relative;}#sk-container-id-1 div.sk-text-repr-fallback {display: none;}</style><div id=\"sk-container-id-1\" class=\"sk-top-container\"><div class=\"sk-text-repr-fallback\"><pre>LabelEncoder()</pre><b>In a Jupyter environment, please rerun this cell to show the HTML representation or trust the notebook. <br />On GitHub, the HTML representation is unable to render, please try loading this page with nbviewer.org.</b></div><div class=\"sk-container\" hidden><div class=\"sk-item\"><div class=\"sk-estimator sk-toggleable\"><input class=\"sk-toggleable__control sk-hidden--visually\" id=\"sk-estimator-id-1\" type=\"checkbox\" checked><label for=\"sk-estimator-id-1\" class=\"sk-toggleable__label sk-toggleable__label-arrow\">LabelEncoder</label><div class=\"sk-toggleable__content\"><pre>LabelEncoder()</pre></div></div></div></div></div>"
            ],
            "text/plain": [
              "LabelEncoder()"
            ]
          },
          "execution_count": 32,
          "metadata": {},
          "output_type": "execute_result"
        }
      ],
      "source": [
        "from sklearn.preprocessing import LabelEncoder\n",
        "\n",
        "# Assuming df_sort_MVG is your DataFrame\n",
        "sub_categories = df_sort_MVG['Sub-category'].unique()\n",
        "\n",
        "# Initialize the LabelEncoder\n",
        "label_encoder = LabelEncoder()\n",
        "label_encoder.fit(sub_categories)"
      ]
    },
    {
      "cell_type": "code",
      "execution_count": 33,
      "metadata": {},
      "outputs": [],
      "source": [
        "df_sort_MVG['Sub-category_encoded'] = label_encoder.transform(df_sort_MVG['Sub-category'])"
      ]
    },
    {
      "cell_type": "code",
      "execution_count": 34,
      "metadata": {},
      "outputs": [
        {
          "data": {
            "text/html": [
              "<div>\n",
              "<style scoped>\n",
              "    .dataframe tbody tr th:only-of-type {\n",
              "        vertical-align: middle;\n",
              "    }\n",
              "\n",
              "    .dataframe tbody tr th {\n",
              "        vertical-align: top;\n",
              "    }\n",
              "\n",
              "    .dataframe thead th {\n",
              "        text-align: right;\n",
              "    }\n",
              "</style>\n",
              "<table border=\"1\" class=\"dataframe\">\n",
              "  <thead>\n",
              "    <tr style=\"text-align: right;\">\n",
              "      <th></th>\n",
              "      <th>ProductID</th>\n",
              "      <th>price</th>\n",
              "      <th>Category</th>\n",
              "      <th>Sub-category</th>\n",
              "      <th>also_buy</th>\n",
              "      <th>Sub-category_encoded</th>\n",
              "    </tr>\n",
              "  </thead>\n",
              "  <tbody>\n",
              "    <tr>\n",
              "      <th>363</th>\n",
              "      <td>B00000JX33</td>\n",
              "      <td>NaN</td>\n",
              "      <td>Video Games</td>\n",
              "      <td>Kids &amp; Family</td>\n",
              "      <td>0</td>\n",
              "      <td>37</td>\n",
              "    </tr>\n",
              "    <tr>\n",
              "      <th>2252</th>\n",
              "      <td>B00002STY5</td>\n",
              "      <td>NaN</td>\n",
              "      <td>Video Games</td>\n",
              "      <td>More Systems</td>\n",
              "      <td>1</td>\n",
              "      <td>45</td>\n",
              "    </tr>\n",
              "    <tr>\n",
              "      <th>5721</th>\n",
              "      <td>B00005B2CW</td>\n",
              "      <td>82.99</td>\n",
              "      <td>Video Games</td>\n",
              "      <td>More Systems</td>\n",
              "      <td>1</td>\n",
              "      <td>45</td>\n",
              "    </tr>\n",
              "    <tr>\n",
              "      <th>849</th>\n",
              "      <td>B00001WRJ6</td>\n",
              "      <td>21.99</td>\n",
              "      <td>Video Games</td>\n",
              "      <td>More Systems</td>\n",
              "      <td>0</td>\n",
              "      <td>45</td>\n",
              "    </tr>\n",
              "    <tr>\n",
              "      <th>48008</th>\n",
              "      <td>B00E8UH48O</td>\n",
              "      <td>9.99</td>\n",
              "      <td>Video Games</td>\n",
              "      <td>Digital Games</td>\n",
              "      <td>0</td>\n",
              "      <td>22</td>\n",
              "    </tr>\n",
              "    <tr>\n",
              "      <th>19160</th>\n",
              "      <td>B000JGD520</td>\n",
              "      <td>49.99</td>\n",
              "      <td>Video Games</td>\n",
              "      <td>Kids &amp; Family</td>\n",
              "      <td>0</td>\n",
              "      <td>37</td>\n",
              "    </tr>\n",
              "    <tr>\n",
              "      <th>7690</th>\n",
              "      <td>B000067QD2</td>\n",
              "      <td>NaN</td>\n",
              "      <td>Video Games</td>\n",
              "      <td>More Systems</td>\n",
              "      <td>0</td>\n",
              "      <td>45</td>\n",
              "    </tr>\n",
              "    <tr>\n",
              "      <th>19896</th>\n",
              "      <td>B000MRNUB2</td>\n",
              "      <td>3.06</td>\n",
              "      <td>Video Games</td>\n",
              "      <td>Xbox 360</td>\n",
              "      <td>1</td>\n",
              "      <td>78</td>\n",
              "    </tr>\n",
              "    <tr>\n",
              "      <th>18516</th>\n",
              "      <td>B000HCJ6QU</td>\n",
              "      <td>59.99</td>\n",
              "      <td>Video Games</td>\n",
              "      <td>PlayStation 3</td>\n",
              "      <td>1</td>\n",
              "      <td>58</td>\n",
              "    </tr>\n",
              "    <tr>\n",
              "      <th>5361</th>\n",
              "      <td>B00005444V</td>\n",
              "      <td>NaN</td>\n",
              "      <td>Video Games</td>\n",
              "      <td>More Systems</td>\n",
              "      <td>0</td>\n",
              "      <td>45</td>\n",
              "    </tr>\n",
              "  </tbody>\n",
              "</table>\n",
              "</div>"
            ],
            "text/plain": [
              "        ProductID  price     Category    Sub-category  also_buy  \\\n",
              "363    B00000JX33    NaN  Video Games   Kids & Family         0   \n",
              "2252   B00002STY5    NaN  Video Games    More Systems         1   \n",
              "5721   B00005B2CW  82.99  Video Games    More Systems         1   \n",
              "849    B00001WRJ6  21.99  Video Games    More Systems         0   \n",
              "48008  B00E8UH48O   9.99  Video Games   Digital Games         0   \n",
              "19160  B000JGD520  49.99  Video Games   Kids & Family         0   \n",
              "7690   B000067QD2    NaN  Video Games    More Systems         0   \n",
              "19896  B000MRNUB2   3.06  Video Games        Xbox 360         1   \n",
              "18516  B000HCJ6QU  59.99  Video Games   PlayStation 3         1   \n",
              "5361   B00005444V    NaN  Video Games    More Systems         0   \n",
              "\n",
              "       Sub-category_encoded  \n",
              "363                      37  \n",
              "2252                     45  \n",
              "5721                     45  \n",
              "849                      45  \n",
              "48008                    22  \n",
              "19160                    37  \n",
              "7690                     45  \n",
              "19896                    78  \n",
              "18516                    58  \n",
              "5361                     45  "
            ]
          },
          "execution_count": 34,
          "metadata": {},
          "output_type": "execute_result"
        }
      ],
      "source": [
        "df_sort_MVG.sample(10)"
      ]
    },
    {
      "cell_type": "code",
      "execution_count": 35,
      "metadata": {},
      "outputs": [],
      "source": [
        "df_sort_MVG.set_index('Sub-category_encoded', inplace=True)"
      ]
    },
    {
      "cell_type": "markdown",
      "metadata": {},
      "source": [
        "## Filling price variable values using interpolate function"
      ]
    },
    {
      "cell_type": "code",
      "execution_count": 36,
      "metadata": {},
      "outputs": [],
      "source": [
        "df_sort_MVG['price'] = df_sort_MVG['price'].interpolate(method='index', limit_direction=\"both\")"
      ]
    },
    {
      "cell_type": "code",
      "execution_count": 37,
      "metadata": {},
      "outputs": [
        {
          "data": {
            "text/html": [
              "<div>\n",
              "<style scoped>\n",
              "    .dataframe tbody tr th:only-of-type {\n",
              "        vertical-align: middle;\n",
              "    }\n",
              "\n",
              "    .dataframe tbody tr th {\n",
              "        vertical-align: top;\n",
              "    }\n",
              "\n",
              "    .dataframe thead th {\n",
              "        text-align: right;\n",
              "    }\n",
              "</style>\n",
              "<table border=\"1\" class=\"dataframe\">\n",
              "  <thead>\n",
              "    <tr style=\"text-align: right;\">\n",
              "      <th></th>\n",
              "      <th>ProductID</th>\n",
              "      <th>price</th>\n",
              "      <th>Category</th>\n",
              "      <th>Sub-category</th>\n",
              "      <th>also_buy</th>\n",
              "    </tr>\n",
              "    <tr>\n",
              "      <th>Sub-category_encoded</th>\n",
              "      <th></th>\n",
              "      <th></th>\n",
              "      <th></th>\n",
              "      <th></th>\n",
              "      <th></th>\n",
              "    </tr>\n",
              "  </thead>\n",
              "  <tbody>\n",
              "    <tr>\n",
              "      <th>78</th>\n",
              "      <td>0078764343</td>\n",
              "      <td>37.98</td>\n",
              "      <td>Video Games</td>\n",
              "      <td>Xbox 360</td>\n",
              "      <td>1</td>\n",
              "    </tr>\n",
              "    <tr>\n",
              "      <th>54</th>\n",
              "      <td>043933702X</td>\n",
              "      <td>23.50</td>\n",
              "      <td>Video Games</td>\n",
              "      <td>PC</td>\n",
              "      <td>0</td>\n",
              "    </tr>\n",
              "    <tr>\n",
              "      <th>54</th>\n",
              "      <td>0439339987</td>\n",
              "      <td>8.95</td>\n",
              "      <td>Video Games</td>\n",
              "      <td>PC</td>\n",
              "      <td>1</td>\n",
              "    </tr>\n",
              "    <tr>\n",
              "      <th>54</th>\n",
              "      <td>0439342260</td>\n",
              "      <td>19.99</td>\n",
              "      <td>Video Games</td>\n",
              "      <td>PC</td>\n",
              "      <td>0</td>\n",
              "    </tr>\n",
              "    <tr>\n",
              "      <th>54</th>\n",
              "      <td>0439339960</td>\n",
              "      <td>19.99</td>\n",
              "      <td>Video Games</td>\n",
              "      <td>PC</td>\n",
              "      <td>0</td>\n",
              "    </tr>\n",
              "    <tr>\n",
              "      <th>54</th>\n",
              "      <td>0439374391</td>\n",
              "      <td>20.00</td>\n",
              "      <td>Video Games</td>\n",
              "      <td>PC</td>\n",
              "      <td>0</td>\n",
              "    </tr>\n",
              "    <tr>\n",
              "      <th>43</th>\n",
              "      <td>0439394422</td>\n",
              "      <td>12.96</td>\n",
              "      <td>Video Games</td>\n",
              "      <td>Mac</td>\n",
              "      <td>1</td>\n",
              "    </tr>\n",
              "    <tr>\n",
              "      <th>43</th>\n",
              "      <td>043940133X</td>\n",
              "      <td>30.00</td>\n",
              "      <td>Video Games</td>\n",
              "      <td>Mac</td>\n",
              "      <td>0</td>\n",
              "    </tr>\n",
              "    <tr>\n",
              "      <th>54</th>\n",
              "      <td>0439573947</td>\n",
              "      <td>10.79</td>\n",
              "      <td>Video Games</td>\n",
              "      <td>PC</td>\n",
              "      <td>1</td>\n",
              "    </tr>\n",
              "    <tr>\n",
              "      <th>54</th>\n",
              "      <td>0439591295</td>\n",
              "      <td>19.99</td>\n",
              "      <td>Video Games</td>\n",
              "      <td>PC</td>\n",
              "      <td>0</td>\n",
              "    </tr>\n",
              "  </tbody>\n",
              "</table>\n",
              "</div>"
            ],
            "text/plain": [
              "                       ProductID  price     Category Sub-category  also_buy\n",
              "Sub-category_encoded                                                       \n",
              "78                    0078764343  37.98  Video Games     Xbox 360         1\n",
              "54                    043933702X  23.50  Video Games           PC         0\n",
              "54                    0439339987   8.95  Video Games           PC         1\n",
              "54                    0439342260  19.99  Video Games           PC         0\n",
              "54                    0439339960  19.99  Video Games           PC         0\n",
              "54                    0439374391  20.00  Video Games           PC         0\n",
              "43                    0439394422  12.96  Video Games          Mac         1\n",
              "43                    043940133X  30.00  Video Games          Mac         0\n",
              "54                    0439573947  10.79  Video Games           PC         1\n",
              "54                    0439591295  19.99  Video Games           PC         0"
            ]
          },
          "execution_count": 37,
          "metadata": {},
          "output_type": "execute_result"
        }
      ],
      "source": [
        "df_sort_MVG.head(10)"
      ]
    },
    {
      "cell_type": "code",
      "execution_count": 38,
      "metadata": {},
      "outputs": [],
      "source": [
        "df_sort_MVG.reset_index(inplace=True)\n",
        "df_sort_MVG.drop('Sub-category_encoded',axis=1,inplace=True)"
      ]
    },
    {
      "cell_type": "code",
      "execution_count": 39,
      "metadata": {},
      "outputs": [],
      "source": [
        "df_sort_MVG.to_csv('VG_EDA_Data.csv', index=False)"
      ]
    },
    {
      "cell_type": "markdown",
      "metadata": {},
      "source": [
        "# <CENTER>  5-core Data"
      ]
    },
    {
      "cell_type": "code",
      "execution_count": 40,
      "metadata": {
        "colab": {
          "base_uri": "https://localhost:8080/",
          "height": 191
        },
        "id": "SRWU6HRFjT5s",
        "outputId": "47ccf901-3ce5-4bba-b692-91fcd1f65944"
      },
      "outputs": [
        {
          "data": {
            "text/html": [
              "<div>\n",
              "<style scoped>\n",
              "    .dataframe tbody tr th:only-of-type {\n",
              "        vertical-align: middle;\n",
              "    }\n",
              "\n",
              "    .dataframe tbody tr th {\n",
              "        vertical-align: top;\n",
              "    }\n",
              "\n",
              "    .dataframe thead th {\n",
              "        text-align: right;\n",
              "    }\n",
              "</style>\n",
              "<table border=\"1\" class=\"dataframe\">\n",
              "  <thead>\n",
              "    <tr style=\"text-align: right;\">\n",
              "      <th></th>\n",
              "      <th>reviewerID</th>\n",
              "      <th>asin</th>\n",
              "      <th>reviewerName</th>\n",
              "      <th>helpful</th>\n",
              "      <th>reviewText</th>\n",
              "      <th>overall</th>\n",
              "      <th>summary</th>\n",
              "      <th>unixReviewTime</th>\n",
              "      <th>reviewTime</th>\n",
              "    </tr>\n",
              "  </thead>\n",
              "  <tbody>\n",
              "    <tr>\n",
              "      <th>0</th>\n",
              "      <td>A2HD75EMZR8QLN</td>\n",
              "      <td>0700099867</td>\n",
              "      <td>123</td>\n",
              "      <td>[8, 12]</td>\n",
              "      <td>Installing the game was a struggle (because of...</td>\n",
              "      <td>1.0</td>\n",
              "      <td>Pay to unlock content? I don't think so.</td>\n",
              "      <td>1341792000</td>\n",
              "      <td>07 9, 2012</td>\n",
              "    </tr>\n",
              "    <tr>\n",
              "      <th>1</th>\n",
              "      <td>A3UR8NLLY1ZHCX</td>\n",
              "      <td>0700099867</td>\n",
              "      <td>Alejandro Henao \"Electronic Junky\"</td>\n",
              "      <td>[0, 0]</td>\n",
              "      <td>If you like rally cars get this game you will ...</td>\n",
              "      <td>4.0</td>\n",
              "      <td>Good rally game</td>\n",
              "      <td>1372550400</td>\n",
              "      <td>06 30, 2013</td>\n",
              "    </tr>\n",
              "  </tbody>\n",
              "</table>\n",
              "</div>"
            ],
            "text/plain": [
              "       reviewerID        asin                        reviewerName  helpful  \\\n",
              "0  A2HD75EMZR8QLN  0700099867                                 123  [8, 12]   \n",
              "1  A3UR8NLLY1ZHCX  0700099867  Alejandro Henao \"Electronic Junky\"   [0, 0]   \n",
              "\n",
              "                                          reviewText  overall  \\\n",
              "0  Installing the game was a struggle (because of...      1.0   \n",
              "1  If you like rally cars get this game you will ...      4.0   \n",
              "\n",
              "                                    summary  unixReviewTime   reviewTime  \n",
              "0  Pay to unlock content? I don't think so.      1341792000   07 9, 2012  \n",
              "1                           Good rally game      1372550400  06 30, 2013  "
            ]
          },
          "execution_count": 40,
          "metadata": {},
          "output_type": "execute_result"
        }
      ],
      "source": [
        "df_5_VG.head(2)"
      ]
    },
    {
      "cell_type": "code",
      "execution_count": 41,
      "metadata": {},
      "outputs": [
        {
          "data": {
            "text/plain": [
              "(231780, 9)"
            ]
          },
          "execution_count": 41,
          "metadata": {},
          "output_type": "execute_result"
        }
      ],
      "source": [
        "df_5_VG.shape"
      ]
    },
    {
      "cell_type": "code",
      "execution_count": 42,
      "metadata": {},
      "outputs": [],
      "source": [
        "df_temp_5VG=df_5_VG.copy()"
      ]
    },
    {
      "cell_type": "code",
      "execution_count": 43,
      "metadata": {},
      "outputs": [],
      "source": [
        "df_temp_5VG = df_temp_5VG.rename(columns={'asin': 'ProductID'})"
      ]
    },
    {
      "cell_type": "code",
      "execution_count": 44,
      "metadata": {},
      "outputs": [
        {
          "data": {
            "text/plain": [
              "reviewerID           0\n",
              "ProductID            0\n",
              "reviewerName      2813\n",
              "helpful              0\n",
              "reviewText           0\n",
              "overall              0\n",
              "summary              0\n",
              "unixReviewTime       0\n",
              "reviewTime           0\n",
              "dtype: int64"
            ]
          },
          "execution_count": 44,
          "metadata": {},
          "output_type": "execute_result"
        }
      ],
      "source": [
        "df_temp_5VG.isnull().sum()"
      ]
    },
    {
      "cell_type": "code",
      "execution_count": 45,
      "metadata": {},
      "outputs": [],
      "source": [
        "df_temp_5VG['reviewerName'].fillna('Not_available',inplace=True)"
      ]
    },
    {
      "cell_type": "code",
      "execution_count": 46,
      "metadata": {},
      "outputs": [
        {
          "data": {
            "text/html": [
              "<div>\n",
              "<style scoped>\n",
              "    .dataframe tbody tr th:only-of-type {\n",
              "        vertical-align: middle;\n",
              "    }\n",
              "\n",
              "    .dataframe tbody tr th {\n",
              "        vertical-align: top;\n",
              "    }\n",
              "\n",
              "    .dataframe thead th {\n",
              "        text-align: right;\n",
              "    }\n",
              "</style>\n",
              "<table border=\"1\" class=\"dataframe\">\n",
              "  <thead>\n",
              "    <tr style=\"text-align: right;\">\n",
              "      <th></th>\n",
              "      <th>reviewerID</th>\n",
              "      <th>ProductID</th>\n",
              "      <th>reviewerName</th>\n",
              "      <th>helpful</th>\n",
              "      <th>reviewText</th>\n",
              "      <th>overall</th>\n",
              "      <th>summary</th>\n",
              "      <th>unixReviewTime</th>\n",
              "      <th>reviewTime</th>\n",
              "    </tr>\n",
              "  </thead>\n",
              "  <tbody>\n",
              "    <tr>\n",
              "      <th>0</th>\n",
              "      <td>A2HD75EMZR8QLN</td>\n",
              "      <td>0700099867</td>\n",
              "      <td>123</td>\n",
              "      <td>[8, 12]</td>\n",
              "      <td>Installing the game was a struggle (because of...</td>\n",
              "      <td>1.0</td>\n",
              "      <td>Pay to unlock content? I don't think so.</td>\n",
              "      <td>1341792000</td>\n",
              "      <td>07 9, 2012</td>\n",
              "    </tr>\n",
              "    <tr>\n",
              "      <th>1</th>\n",
              "      <td>A3UR8NLLY1ZHCX</td>\n",
              "      <td>0700099867</td>\n",
              "      <td>Alejandro Henao \"Electronic Junky\"</td>\n",
              "      <td>[0, 0]</td>\n",
              "      <td>If you like rally cars get this game you will ...</td>\n",
              "      <td>4.0</td>\n",
              "      <td>Good rally game</td>\n",
              "      <td>1372550400</td>\n",
              "      <td>06 30, 2013</td>\n",
              "    </tr>\n",
              "    <tr>\n",
              "      <th>2</th>\n",
              "      <td>A1INA0F5CWW3J4</td>\n",
              "      <td>0700099867</td>\n",
              "      <td>Amazon Shopper \"Mr.Repsol\"</td>\n",
              "      <td>[0, 0]</td>\n",
              "      <td>1st shipment received a book instead of the ga...</td>\n",
              "      <td>1.0</td>\n",
              "      <td>Wrong key</td>\n",
              "      <td>1403913600</td>\n",
              "      <td>06 28, 2014</td>\n",
              "    </tr>\n",
              "    <tr>\n",
              "      <th>3</th>\n",
              "      <td>A1DLMTOTHQ4AST</td>\n",
              "      <td>0700099867</td>\n",
              "      <td>ampgreen</td>\n",
              "      <td>[7, 10]</td>\n",
              "      <td>I got this version instead of the PS3 version,...</td>\n",
              "      <td>3.0</td>\n",
              "      <td>awesome game, if it did not crash frequently !!</td>\n",
              "      <td>1315958400</td>\n",
              "      <td>09 14, 2011</td>\n",
              "    </tr>\n",
              "    <tr>\n",
              "      <th>4</th>\n",
              "      <td>A361M14PU2GUEG</td>\n",
              "      <td>0700099867</td>\n",
              "      <td>Angry Ryan \"Ryan A. Forrest\"</td>\n",
              "      <td>[2, 2]</td>\n",
              "      <td>I had Dirt 2 on Xbox 360 and it was an okay ga...</td>\n",
              "      <td>4.0</td>\n",
              "      <td>DIRT 3</td>\n",
              "      <td>1308009600</td>\n",
              "      <td>06 14, 2011</td>\n",
              "    </tr>\n",
              "  </tbody>\n",
              "</table>\n",
              "</div>"
            ],
            "text/plain": [
              "       reviewerID   ProductID                        reviewerName  helpful  \\\n",
              "0  A2HD75EMZR8QLN  0700099867                                 123  [8, 12]   \n",
              "1  A3UR8NLLY1ZHCX  0700099867  Alejandro Henao \"Electronic Junky\"   [0, 0]   \n",
              "2  A1INA0F5CWW3J4  0700099867          Amazon Shopper \"Mr.Repsol\"   [0, 0]   \n",
              "3  A1DLMTOTHQ4AST  0700099867                            ampgreen  [7, 10]   \n",
              "4  A361M14PU2GUEG  0700099867        Angry Ryan \"Ryan A. Forrest\"   [2, 2]   \n",
              "\n",
              "                                          reviewText  overall  \\\n",
              "0  Installing the game was a struggle (because of...      1.0   \n",
              "1  If you like rally cars get this game you will ...      4.0   \n",
              "2  1st shipment received a book instead of the ga...      1.0   \n",
              "3  I got this version instead of the PS3 version,...      3.0   \n",
              "4  I had Dirt 2 on Xbox 360 and it was an okay ga...      4.0   \n",
              "\n",
              "                                           summary  unixReviewTime  \\\n",
              "0         Pay to unlock content? I don't think so.      1341792000   \n",
              "1                                  Good rally game      1372550400   \n",
              "2                                        Wrong key      1403913600   \n",
              "3  awesome game, if it did not crash frequently !!      1315958400   \n",
              "4                                           DIRT 3      1308009600   \n",
              "\n",
              "    reviewTime  \n",
              "0   07 9, 2012  \n",
              "1  06 30, 2013  \n",
              "2  06 28, 2014  \n",
              "3  09 14, 2011  \n",
              "4  06 14, 2011  "
            ]
          },
          "execution_count": 46,
          "metadata": {},
          "output_type": "execute_result"
        }
      ],
      "source": [
        "df_temp_5VG.head()"
      ]
    },
    {
      "cell_type": "markdown",
      "metadata": {},
      "source": [
        "## Converting reviewtime to Datetime "
      ]
    },
    {
      "cell_type": "code",
      "execution_count": 47,
      "metadata": {},
      "outputs": [],
      "source": [
        "from datetime import datetime\n",
        "\n",
        "date_format = \"%m %d, %Y\"\n",
        "df_temp_5VG['reviewTime'] = pd.to_datetime(df_temp_5VG['reviewTime'], format=date_format).dt.date"
      ]
    },
    {
      "cell_type": "code",
      "execution_count": 48,
      "metadata": {},
      "outputs": [],
      "source": [
        "df_temp_5VG = df_temp_5VG.rename(columns={'reviewTime': 'Date'})"
      ]
    },
    {
      "cell_type": "code",
      "execution_count": 49,
      "metadata": {},
      "outputs": [
        {
          "data": {
            "text/html": [
              "<div>\n",
              "<style scoped>\n",
              "    .dataframe tbody tr th:only-of-type {\n",
              "        vertical-align: middle;\n",
              "    }\n",
              "\n",
              "    .dataframe tbody tr th {\n",
              "        vertical-align: top;\n",
              "    }\n",
              "\n",
              "    .dataframe thead th {\n",
              "        text-align: right;\n",
              "    }\n",
              "</style>\n",
              "<table border=\"1\" class=\"dataframe\">\n",
              "  <thead>\n",
              "    <tr style=\"text-align: right;\">\n",
              "      <th></th>\n",
              "      <th>reviewerID</th>\n",
              "      <th>ProductID</th>\n",
              "      <th>reviewerName</th>\n",
              "      <th>helpful</th>\n",
              "      <th>reviewText</th>\n",
              "      <th>overall</th>\n",
              "      <th>summary</th>\n",
              "      <th>unixReviewTime</th>\n",
              "      <th>Date</th>\n",
              "    </tr>\n",
              "  </thead>\n",
              "  <tbody>\n",
              "    <tr>\n",
              "      <th>0</th>\n",
              "      <td>A2HD75EMZR8QLN</td>\n",
              "      <td>0700099867</td>\n",
              "      <td>123</td>\n",
              "      <td>[8, 12]</td>\n",
              "      <td>Installing the game was a struggle (because of...</td>\n",
              "      <td>1.0</td>\n",
              "      <td>Pay to unlock content? I don't think so.</td>\n",
              "      <td>1341792000</td>\n",
              "      <td>2012-07-09</td>\n",
              "    </tr>\n",
              "    <tr>\n",
              "      <th>1</th>\n",
              "      <td>A3UR8NLLY1ZHCX</td>\n",
              "      <td>0700099867</td>\n",
              "      <td>Alejandro Henao \"Electronic Junky\"</td>\n",
              "      <td>[0, 0]</td>\n",
              "      <td>If you like rally cars get this game you will ...</td>\n",
              "      <td>4.0</td>\n",
              "      <td>Good rally game</td>\n",
              "      <td>1372550400</td>\n",
              "      <td>2013-06-30</td>\n",
              "    </tr>\n",
              "  </tbody>\n",
              "</table>\n",
              "</div>"
            ],
            "text/plain": [
              "       reviewerID   ProductID                        reviewerName  helpful  \\\n",
              "0  A2HD75EMZR8QLN  0700099867                                 123  [8, 12]   \n",
              "1  A3UR8NLLY1ZHCX  0700099867  Alejandro Henao \"Electronic Junky\"   [0, 0]   \n",
              "\n",
              "                                          reviewText  overall  \\\n",
              "0  Installing the game was a struggle (because of...      1.0   \n",
              "1  If you like rally cars get this game you will ...      4.0   \n",
              "\n",
              "                                    summary  unixReviewTime        Date  \n",
              "0  Pay to unlock content? I don't think so.      1341792000  2012-07-09  \n",
              "1                           Good rally game      1372550400  2013-06-30  "
            ]
          },
          "execution_count": 49,
          "metadata": {},
          "output_type": "execute_result"
        }
      ],
      "source": [
        "df_temp_5VG.head(2)"
      ]
    },
    {
      "cell_type": "code",
      "execution_count": 50,
      "metadata": {},
      "outputs": [],
      "source": [
        "df_temp_5VG.drop('unixReviewTime',axis=1,inplace=True)"
      ]
    },
    {
      "cell_type": "code",
      "execution_count": 51,
      "metadata": {},
      "outputs": [],
      "source": [
        "df_temp_5VG['text']=df_temp_5VG['reviewText']+df_temp_5VG['summary']"
      ]
    },
    {
      "cell_type": "code",
      "execution_count": 52,
      "metadata": {},
      "outputs": [],
      "source": [
        "df_temp_5VG.drop(['reviewText','summary','helpful'],axis=1,inplace =True)"
      ]
    },
    {
      "cell_type": "code",
      "execution_count": 53,
      "metadata": {},
      "outputs": [
        {
          "data": {
            "text/html": [
              "<div>\n",
              "<style scoped>\n",
              "    .dataframe tbody tr th:only-of-type {\n",
              "        vertical-align: middle;\n",
              "    }\n",
              "\n",
              "    .dataframe tbody tr th {\n",
              "        vertical-align: top;\n",
              "    }\n",
              "\n",
              "    .dataframe thead th {\n",
              "        text-align: right;\n",
              "    }\n",
              "</style>\n",
              "<table border=\"1\" class=\"dataframe\">\n",
              "  <thead>\n",
              "    <tr style=\"text-align: right;\">\n",
              "      <th></th>\n",
              "      <th>reviewerID</th>\n",
              "      <th>ProductID</th>\n",
              "      <th>reviewerName</th>\n",
              "      <th>overall</th>\n",
              "      <th>Date</th>\n",
              "      <th>text</th>\n",
              "    </tr>\n",
              "  </thead>\n",
              "  <tbody>\n",
              "    <tr>\n",
              "      <th>0</th>\n",
              "      <td>A2HD75EMZR8QLN</td>\n",
              "      <td>0700099867</td>\n",
              "      <td>123</td>\n",
              "      <td>1.0</td>\n",
              "      <td>2012-07-09</td>\n",
              "      <td>Installing the game was a struggle (because of...</td>\n",
              "    </tr>\n",
              "    <tr>\n",
              "      <th>1</th>\n",
              "      <td>A3UR8NLLY1ZHCX</td>\n",
              "      <td>0700099867</td>\n",
              "      <td>Alejandro Henao \"Electronic Junky\"</td>\n",
              "      <td>4.0</td>\n",
              "      <td>2013-06-30</td>\n",
              "      <td>If you like rally cars get this game you will ...</td>\n",
              "    </tr>\n",
              "    <tr>\n",
              "      <th>2</th>\n",
              "      <td>A1INA0F5CWW3J4</td>\n",
              "      <td>0700099867</td>\n",
              "      <td>Amazon Shopper \"Mr.Repsol\"</td>\n",
              "      <td>1.0</td>\n",
              "      <td>2014-06-28</td>\n",
              "      <td>1st shipment received a book instead of the ga...</td>\n",
              "    </tr>\n",
              "    <tr>\n",
              "      <th>3</th>\n",
              "      <td>A1DLMTOTHQ4AST</td>\n",
              "      <td>0700099867</td>\n",
              "      <td>ampgreen</td>\n",
              "      <td>3.0</td>\n",
              "      <td>2011-09-14</td>\n",
              "      <td>I got this version instead of the PS3 version,...</td>\n",
              "    </tr>\n",
              "    <tr>\n",
              "      <th>4</th>\n",
              "      <td>A361M14PU2GUEG</td>\n",
              "      <td>0700099867</td>\n",
              "      <td>Angry Ryan \"Ryan A. Forrest\"</td>\n",
              "      <td>4.0</td>\n",
              "      <td>2011-06-14</td>\n",
              "      <td>I had Dirt 2 on Xbox 360 and it was an okay ga...</td>\n",
              "    </tr>\n",
              "  </tbody>\n",
              "</table>\n",
              "</div>"
            ],
            "text/plain": [
              "       reviewerID   ProductID                        reviewerName  overall  \\\n",
              "0  A2HD75EMZR8QLN  0700099867                                 123      1.0   \n",
              "1  A3UR8NLLY1ZHCX  0700099867  Alejandro Henao \"Electronic Junky\"      4.0   \n",
              "2  A1INA0F5CWW3J4  0700099867          Amazon Shopper \"Mr.Repsol\"      1.0   \n",
              "3  A1DLMTOTHQ4AST  0700099867                            ampgreen      3.0   \n",
              "4  A361M14PU2GUEG  0700099867        Angry Ryan \"Ryan A. Forrest\"      4.0   \n",
              "\n",
              "         Date                                               text  \n",
              "0  2012-07-09  Installing the game was a struggle (because of...  \n",
              "1  2013-06-30  If you like rally cars get this game you will ...  \n",
              "2  2014-06-28  1st shipment received a book instead of the ga...  \n",
              "3  2011-09-14  I got this version instead of the PS3 version,...  \n",
              "4  2011-06-14  I had Dirt 2 on Xbox 360 and it was an okay ga...  "
            ]
          },
          "execution_count": 53,
          "metadata": {},
          "output_type": "execute_result"
        }
      ],
      "source": [
        "df_temp_5VG.head()"
      ]
    },
    {
      "cell_type": "markdown",
      "metadata": {},
      "source": [
        "## Text preprocessing using SPACY"
      ]
    },
    {
      "cell_type": "code",
      "execution_count": 61,
      "metadata": {},
      "outputs": [],
      "source": [
        "import spacy\n",
        "import re\n",
        "\n",
        "def remove_special_characters(text):\n",
        "    # Remove all non-letters and non-spaces except for hyphens and digits\n",
        "    text = re.sub(\"[^0-9A-Za-z\\- ]+\", \" \", text)\n",
        "    # Remove unnecessary symbols, punctuation, and signs\n",
        "    text = re.sub(r'[^\\w\\s]', '', text)\n",
        "    # Remove all numbers except those attached to a word\n",
        "    text = re.sub(\"(?<!\\w)\\d+\", \"\", text)\n",
        "    # Remove all hyphens except between two words\n",
        "    text = re.sub(\"-(?!\\w)|(?<!\\w)-\", \"\", text)\n",
        "    # Remove multiple spaces\n",
        "    text = \" \".join(text.split())\n",
        "    return text"
      ]
    },
    {
      "cell_type": "code",
      "execution_count": 62,
      "metadata": {},
      "outputs": [],
      "source": [
        "nlp = spacy.load(\"en_core_web_sm\")\n",
        "# def preprocess(text):\n",
        "#     if text is not np.nan:\n",
        "#         # Lowercase everything\n",
        "#         text = text.lower()\n",
        "#         # Lemmatize the text\n",
        "#         doc = nlp(text)\n",
        "#         filtered_tokens = []\n",
        "#         for token in doc:\n",
        "#             if token.is_stop:\n",
        "#                 continue\n",
        "#             filtered_tokens.append(token.lemma_)\n",
        "#         # Remove extra spaces\n",
        "#         return \" \".join(filtered_tokens).strip()"
      ]
    },
    {
      "cell_type": "markdown",
      "metadata": {},
      "source": [
        "## Text preprocessing using NLTK"
      ]
    },
    {
      "cell_type": "code",
      "execution_count": 69,
      "metadata": {},
      "outputs": [],
      "source": [
        "import nltk\n",
        "from nltk.corpus import stopwords\n",
        "from nltk.stem import WordNetLemmatizer\n",
        "\n",
        "nltk.download('punkt')\n",
        "nltk.download('wordnet')\n",
        "nltk.download('stopwords')\n",
        "\n",
        "# Load the NLTK lemmatizer and stopwords\n",
        "lemmatizer = WordNetLemmatizer()\n",
        "stop_words = set(stopwords.words('english'))\n",
        "\n",
        "def preprocess(text):\n",
        "    if text is not np.nan:\n",
        "        # Lowercase everything\n",
        "        text = text.lower()\n",
        "        # Tokenize the text\n",
        "        tokens = nltk.word_tokenize(text)\n",
        "        filtered_tokens = []\n",
        "        for token in tokens:\n",
        "            if token in stop_words:\n",
        "                continue\n",
        "            # Lemmatize the token\n",
        "            lemmatized_token = lemmatizer.lemmatize(token)\n",
        "            filtered_tokens.append(lemmatized_token)\n",
        "        # Remove extra spaces\n",
        "        return \" \".join(filtered_tokens).strip()"
      ]
    },
    {
      "cell_type": "code",
      "execution_count": 64,
      "metadata": {},
      "outputs": [],
      "source": [
        "df_temp_5VG['text']=df_temp_5VG['text'].apply(remove_special_characters)"
      ]
    },
    {
      "cell_type": "code",
      "execution_count": 70,
      "metadata": {},
      "outputs": [],
      "source": [
        "df_temp_5VG['text']=df_temp_5VG['text'].apply(preprocess)"
      ]
    },
    {
      "cell_type": "code",
      "execution_count": 72,
      "metadata": {},
      "outputs": [
        {
          "data": {
            "text/html": [
              "<div>\n",
              "<style scoped>\n",
              "    .dataframe tbody tr th:only-of-type {\n",
              "        vertical-align: middle;\n",
              "    }\n",
              "\n",
              "    .dataframe tbody tr th {\n",
              "        vertical-align: top;\n",
              "    }\n",
              "\n",
              "    .dataframe thead th {\n",
              "        text-align: right;\n",
              "    }\n",
              "</style>\n",
              "<table border=\"1\" class=\"dataframe\">\n",
              "  <thead>\n",
              "    <tr style=\"text-align: right;\">\n",
              "      <th></th>\n",
              "      <th>reviewerID</th>\n",
              "      <th>ProductID</th>\n",
              "      <th>reviewerName</th>\n",
              "      <th>overall</th>\n",
              "      <th>Date</th>\n",
              "      <th>text</th>\n",
              "    </tr>\n",
              "  </thead>\n",
              "  <tbody>\n",
              "    <tr>\n",
              "      <th>0</th>\n",
              "      <td>A2HD75EMZR8QLN</td>\n",
              "      <td>0700099867</td>\n",
              "      <td>123</td>\n",
              "      <td>1.0</td>\n",
              "      <td>2012-07-09</td>\n",
              "      <td>installing game struggle game window live bug ...</td>\n",
              "    </tr>\n",
              "    <tr>\n",
              "      <th>1</th>\n",
              "      <td>A3UR8NLLY1ZHCX</td>\n",
              "      <td>0700099867</td>\n",
              "      <td>Alejandro Henao \"Electronic Junky\"</td>\n",
              "      <td>4.0</td>\n",
              "      <td>2013-06-30</td>\n",
              "      <td>like rally car get game fun oriented european ...</td>\n",
              "    </tr>\n",
              "    <tr>\n",
              "      <th>2</th>\n",
              "      <td>A1INA0F5CWW3J4</td>\n",
              "      <td>0700099867</td>\n",
              "      <td>Amazon Shopper \"Mr.Repsol\"</td>\n",
              "      <td>1.0</td>\n",
              "      <td>2014-06-28</td>\n",
              "      <td>st shipment received book instead game nd ship...</td>\n",
              "    </tr>\n",
              "    <tr>\n",
              "      <th>3</th>\n",
              "      <td>A1DLMTOTHQ4AST</td>\n",
              "      <td>0700099867</td>\n",
              "      <td>ampgreen</td>\n",
              "      <td>3.0</td>\n",
              "      <td>2011-09-14</td>\n",
              "      <td>got version instead ps3 version turned mistake...</td>\n",
              "    </tr>\n",
              "    <tr>\n",
              "      <th>4</th>\n",
              "      <td>A361M14PU2GUEG</td>\n",
              "      <td>0700099867</td>\n",
              "      <td>Angry Ryan \"Ryan A. Forrest\"</td>\n",
              "      <td>4.0</td>\n",
              "      <td>2011-06-14</td>\n",
              "      <td>dirt xbox okay game started playing game lapto...</td>\n",
              "    </tr>\n",
              "  </tbody>\n",
              "</table>\n",
              "</div>"
            ],
            "text/plain": [
              "       reviewerID   ProductID                        reviewerName  overall  \\\n",
              "0  A2HD75EMZR8QLN  0700099867                                 123      1.0   \n",
              "1  A3UR8NLLY1ZHCX  0700099867  Alejandro Henao \"Electronic Junky\"      4.0   \n",
              "2  A1INA0F5CWW3J4  0700099867          Amazon Shopper \"Mr.Repsol\"      1.0   \n",
              "3  A1DLMTOTHQ4AST  0700099867                            ampgreen      3.0   \n",
              "4  A361M14PU2GUEG  0700099867        Angry Ryan \"Ryan A. Forrest\"      4.0   \n",
              "\n",
              "         Date                                               text  \n",
              "0  2012-07-09  installing game struggle game window live bug ...  \n",
              "1  2013-06-30  like rally car get game fun oriented european ...  \n",
              "2  2014-06-28  st shipment received book instead game nd ship...  \n",
              "3  2011-09-14  got version instead ps3 version turned mistake...  \n",
              "4  2011-06-14  dirt xbox okay game started playing game lapto...  "
            ]
          },
          "execution_count": 72,
          "metadata": {},
          "output_type": "execute_result"
        }
      ],
      "source": [
        "df_temp_5VG.head()"
      ]
    },
    {
      "cell_type": "code",
      "execution_count": 74,
      "metadata": {},
      "outputs": [],
      "source": [
        "df_temp_5VG.to_csv('VG_5TG_review.csv', index=False)"
      ]
    },
    {
      "cell_type": "markdown",
      "metadata": {},
      "source": [
        "## Merging both data "
      ]
    },
    {
      "cell_type": "code",
      "execution_count": 165,
      "metadata": {},
      "outputs": [],
      "source": [
        "VG_df = pd.merge(df_sort_MVG, df_temp_5VG, on='ProductID', how='inner')"
      ]
    },
    {
      "cell_type": "code",
      "execution_count": 169,
      "metadata": {},
      "outputs": [
        {
          "data": {
            "text/plain": [
              "(231780, 10)"
            ]
          },
          "execution_count": 169,
          "metadata": {},
          "output_type": "execute_result"
        }
      ],
      "source": [
        "VG_df.shape"
      ]
    },
    {
      "cell_type": "code",
      "execution_count": 159,
      "metadata": {},
      "outputs": [
        {
          "data": {
            "text/plain": [
              "ProductID       0\n",
              "price           0\n",
              "Category        0\n",
              "Sub-category    0\n",
              "also_buy        0\n",
              "reviewerID      0\n",
              "reviewerName    0\n",
              "overall         0\n",
              "Date            0\n",
              "text            0\n",
              "dtype: int64"
            ]
          },
          "execution_count": 159,
          "metadata": {},
          "output_type": "execute_result"
        }
      ],
      "source": [
        "VG_df.isnull().sum()"
      ]
    },
    {
      "cell_type": "markdown",
      "metadata": {},
      "source": [
        "# Uploading File as CSV format"
      ]
    },
    {
      "cell_type": "code",
      "execution_count": 160,
      "metadata": {},
      "outputs": [],
      "source": [
        "VG_df.to_csv('VG_Data.csv', index=False)"
      ]
    },
    {
      "cell_type": "markdown",
      "metadata": {},
      "source": [
        "## --------------------------------------------------"
      ]
    }
  ],
  "metadata": {
    "accelerator": "GPU",
    "colab": {
      "gpuType": "T4",
      "provenance": []
    },
    "kernelspec": {
      "display_name": "Python 3",
      "name": "python3"
    },
    "language_info": {
      "codemirror_mode": {
        "name": "ipython",
        "version": 3
      },
      "file_extension": ".py",
      "mimetype": "text/x-python",
      "name": "python",
      "nbconvert_exporter": "python",
      "pygments_lexer": "ipython3",
      "version": "3.10.9"
    }
  },
  "nbformat": 4,
  "nbformat_minor": 0
}
